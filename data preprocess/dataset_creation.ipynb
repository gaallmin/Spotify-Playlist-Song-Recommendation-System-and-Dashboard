{
 "cells": [
  {
   "cell_type": "markdown",
   "metadata": {},
   "source": [
    "### Dataset Creation"
   ]
  },
  {
   "cell_type": "markdown",
   "metadata": {},
   "source": [
    "This file prepares a dataframe of 10,000+ tracks across 100 Spotify playlists along with metadata (which playlist the track is from, track name, artist, album, lyrics, etc.)\n",
    "\n",
    "First, download [The Million Playlist Dataset](https://www.aicrowd.com/challenges/spotify-million-playlist-dataset-challenge), which contains 1 million playlists created by Spotify users in the US between Jan 2010 - Oct 2017.\n",
    "\n",
    "From the dataset, we will select 100 playlists that each have at least 100 songs.\n",
    "\n",
    "However, the dataset does not contain track lyrics, which we need for this project. To get track lyrics, we will use the [LRCLIB](https://lrclib.net/) API to retrieve song lyrics for all unique songs across the 100 playlists."
   ]
  },
  {
   "cell_type": "code",
   "execution_count": 16,
   "metadata": {},
   "outputs": [],
   "source": [
    "import json\n",
    "import matplotlib.pyplot as plt\n",
    "import requests  # for API calls\n",
    "import pandas as pd"
   ]
  },
  {
   "cell_type": "markdown",
   "metadata": {},
   "source": [
    "#### Access playlists with at least 150 tracks from the Million Playlist Dataset"
   ]
  },
  {
   "cell_type": "code",
   "execution_count": 17,
   "metadata": {},
   "outputs": [],
   "source": [
    "# First 1000 playlists from the Million Playlist Dataset \n",
    "filepath = 'data/mpd.slice.0-999.json'\n",
    "\n",
    "# Load the json file\n",
    "with open(filepath, 'r') as f:\n",
    "    data = json.load(f)"
   ]
  },
  {
   "cell_type": "code",
   "execution_count": 21,
   "metadata": {},
   "outputs": [
    {
     "name": "stdout",
     "output_type": "stream",
     "text": [
      "Number of playlists with at least 150 tracks: 102\n",
      "The first valid playlist: {'name': 'Garage Rock', 'collaborative': 'false', 'pid': 30, 'modified_at': 1430265600, 'num_tracks': 157, 'num_albums': 17, 'num_followers': 1, 'tracks': [{'pos': 0, 'artist_name': 'Will Butler', 'track_uri': 'spotify:track:6v4zAuJTlszNdKrbbnEFu8', 'artist_uri': 'spotify:artist:1POwuKLQ9xhMZzIYElNtWp', 'track_name': 'Take My Side', 'album_uri': 'spotify:album:3skSkUIi340Fp7KzUAxTBW', 'duration_ms': 228563, 'album_name': 'Policy'}, {'pos': 1, 'artist_name': 'Parquet Courts', 'track_uri': 'spotify:track:25JD35LDh7CEJ9gKUNruVj', 'artist_uri': 'spotify:artist:23NIwARd4vPbxt3wwNnJ6k', 'track_name': 'Everyday it Starts', 'album_uri': 'spotify:album:0Zj7AxTX3Q312lz6GLFTrt', 'duration_ms': 176026, 'album_name': 'Content Nausea'}, {'pos': 2, 'artist_name': 'Parquet Courts', 'track_uri': 'spotify:track:24bk2iKzr3VcymFnzIy3oS', 'artist_uri': 'spotify:artist:23NIwARd4vPbxt3wwNnJ6k', 'track_name': 'Content Nausea', 'album_uri': 'spotify:album:0Zj7AxTX3Q312lz6GLFTrt', 'duration_ms': 183999, 'album_name': 'Content Nausea'}, {'pos': 3, 'artist_name': 'Parquet Courts', 'track_uri': 'spotify:track:1FSnDovZWXroRumXp9pQ5c', 'artist_uri': 'spotify:artist:23NIwARd4vPbxt3wwNnJ6k', 'track_name': 'Urban Ease', 'album_uri': 'spotify:album:0Zj7AxTX3Q312lz6GLFTrt', 'duration_ms': 55906, 'album_name': 'Content Nausea'}, {'pos': 4, 'artist_name': 'Parquet Courts', 'track_uri': 'spotify:track:7rjK8CDTtTn2KG9Zja7ETj', 'artist_uri': 'spotify:artist:23NIwARd4vPbxt3wwNnJ6k', 'track_name': 'Slide Machine', 'album_uri': 'spotify:album:0Zj7AxTX3Q312lz6GLFTrt', 'duration_ms': 262426, 'album_name': 'Content Nausea'}, {'pos': 5, 'artist_name': 'Parquet Courts', 'track_uri': 'spotify:track:56rtYZUhNQ9Xt95mfE1qNE', 'artist_uri': 'spotify:artist:23NIwARd4vPbxt3wwNnJ6k', 'track_name': 'Kevlar Walls', 'album_uri': 'spotify:album:0Zj7AxTX3Q312lz6GLFTrt', 'duration_ms': 59093, 'album_name': 'Content Nausea'}, {'pos': 6, 'artist_name': 'Parquet Courts', 'track_uri': 'spotify:track:1zPn4tfkWfowVG3ROo1wUY', 'artist_uri': 'spotify:artist:23NIwARd4vPbxt3wwNnJ6k', 'track_name': 'Pretty Machines', 'album_uri': 'spotify:album:0Zj7AxTX3Q312lz6GLFTrt', 'duration_ms': 281333, 'album_name': 'Content Nausea'}, {'pos': 7, 'artist_name': 'Parquet Courts', 'track_uri': 'spotify:track:64Ci6z1RDlZNnXpgqGF5or', 'artist_uri': 'spotify:artist:23NIwARd4vPbxt3wwNnJ6k', 'track_name': 'Psycho Structures', 'album_uri': 'spotify:album:0Zj7AxTX3Q312lz6GLFTrt', 'duration_ms': 173106, 'album_name': 'Content Nausea'}, {'pos': 8, 'artist_name': 'Parquet Courts', 'track_uri': 'spotify:track:0uV5lCaTMaJ7eAFr6LlITy', 'artist_uri': 'spotify:artist:23NIwARd4vPbxt3wwNnJ6k', 'track_name': 'The Map', 'album_uri': 'spotify:album:0Zj7AxTX3Q312lz6GLFTrt', 'duration_ms': 175093, 'album_name': 'Content Nausea'}, {'pos': 9, 'artist_name': 'Parquet Courts', 'track_uri': 'spotify:track:30zu86EEznmn8Vvp1cKRn7', 'artist_uri': 'spotify:artist:23NIwARd4vPbxt3wwNnJ6k', 'track_name': \"These Boots Are Made for Walkin'\", 'album_uri': 'spotify:album:0Zj7AxTX3Q312lz6GLFTrt', 'duration_ms': 211333, 'album_name': 'Content Nausea'}, {'pos': 10, 'artist_name': 'Parquet Courts', 'track_uri': 'spotify:track:1u4iac5xzlzD2reO20qxcs', 'artist_uri': 'spotify:artist:23NIwARd4vPbxt3wwNnJ6k', 'track_name': 'Insufferable', 'album_uri': 'spotify:album:0Zj7AxTX3Q312lz6GLFTrt', 'duration_ms': 95920, 'album_name': 'Content Nausea'}, {'pos': 11, 'artist_name': 'Parquet Courts', 'track_uri': 'spotify:track:0DNhKHV549c7RHIWw7WttH', 'artist_uri': 'spotify:artist:23NIwARd4vPbxt3wwNnJ6k', 'track_name': 'No Concept', 'album_uri': 'spotify:album:0Zj7AxTX3Q312lz6GLFTrt', 'duration_ms': 43253, 'album_name': 'Content Nausea'}, {'pos': 12, 'artist_name': 'Parquet Courts', 'track_uri': 'spotify:track:4rU6Yb8admwqo5yBd8kkL6', 'artist_uri': 'spotify:artist:23NIwARd4vPbxt3wwNnJ6k', 'track_name': 'Uncast Shadow of a Southern Myth', 'album_uri': 'spotify:album:0Zj7AxTX3Q312lz6GLFTrt', 'duration_ms': 386760, 'album_name': 'Content Nausea'}, {'pos': 13, 'artist_name': 'Parquet Courts', 'track_uri': 'spotify:track:4Ixf6QPQ6xc8iMLWpuM4YN', 'artist_uri': 'spotify:artist:23NIwARd4vPbxt3wwNnJ6k', 'track_name': 'Bodies Made Of', 'album_uri': 'spotify:album:2hamtboXQEXAt87uUG8Gd5', 'duration_ms': 201253, 'album_name': 'Sunbathing Animal'}, {'pos': 14, 'artist_name': 'Parquet Courts', 'track_uri': 'spotify:track:1xHwiuAGXmgePujWLNprrx', 'artist_uri': 'spotify:artist:23NIwARd4vPbxt3wwNnJ6k', 'track_name': 'Black And White', 'album_uri': 'spotify:album:2hamtboXQEXAt87uUG8Gd5', 'duration_ms': 182986, 'album_name': 'Sunbathing Animal'}, {'pos': 15, 'artist_name': 'Parquet Courts', 'track_uri': 'spotify:track:2ISCUoN1OJinPLb0t1AMzG', 'artist_uri': 'spotify:artist:23NIwARd4vPbxt3wwNnJ6k', 'track_name': 'Dear Ramona', 'album_uri': 'spotify:album:2hamtboXQEXAt87uUG8Gd5', 'duration_ms': 154773, 'album_name': 'Sunbathing Animal'}, {'pos': 16, 'artist_name': 'Parquet Courts', 'track_uri': 'spotify:track:5uojJv0rFozERjq666I75E', 'artist_uri': 'spotify:artist:23NIwARd4vPbxt3wwNnJ6k', 'track_name': 'What Color Is Blood', 'album_uri': 'spotify:album:2hamtboXQEXAt87uUG8Gd5', 'duration_ms': 204546, 'album_name': 'Sunbathing Animal'}, {'pos': 17, 'artist_name': 'Parquet Courts', 'track_uri': 'spotify:track:5bBbInPtZenMv4SjNW5KuV', 'artist_uri': 'spotify:artist:23NIwARd4vPbxt3wwNnJ6k', 'track_name': 'Vienna II', 'album_uri': 'spotify:album:2hamtboXQEXAt87uUG8Gd5', 'duration_ms': 62186, 'album_name': 'Sunbathing Animal'}, {'pos': 18, 'artist_name': 'Parquet Courts', 'track_uri': 'spotify:track:2crpmiIJiV6JDOw0acn06X', 'artist_uri': 'spotify:artist:23NIwARd4vPbxt3wwNnJ6k', 'track_name': 'Always Back In Town', 'album_uri': 'spotify:album:2hamtboXQEXAt87uUG8Gd5', 'duration_ms': 157933, 'album_name': 'Sunbathing Animal'}, {'pos': 19, 'artist_name': 'Parquet Courts', 'track_uri': 'spotify:track:0GIAGcah83likMo1Tj8eX4', 'artist_uri': 'spotify:artist:23NIwARd4vPbxt3wwNnJ6k', 'track_name': \"She's Rolling\", 'album_uri': 'spotify:album:2hamtboXQEXAt87uUG8Gd5', 'duration_ms': 393120, 'album_name': 'Sunbathing Animal'}, {'pos': 20, 'artist_name': 'Parquet Courts', 'track_uri': 'spotify:track:5yvFoIEvti2wLqqNlyJkyu', 'artist_uri': 'spotify:artist:23NIwARd4vPbxt3wwNnJ6k', 'track_name': 'Sunbathing Animal', 'album_uri': 'spotify:album:2hamtboXQEXAt87uUG8Gd5', 'duration_ms': 232360, 'album_name': 'Sunbathing Animal'}, {'pos': 21, 'artist_name': 'Parquet Courts', 'track_uri': 'spotify:track:6K1mHOjdHOK2fAfhSjr7BD', 'artist_uri': 'spotify:artist:23NIwARd4vPbxt3wwNnJ6k', 'track_name': 'Up All Night', 'album_uri': 'spotify:album:2hamtboXQEXAt87uUG8Gd5', 'duration_ms': 62213, 'album_name': 'Sunbathing Animal'}, {'pos': 22, 'artist_name': 'Parquet Courts', 'track_uri': 'spotify:track:7s5f5J732iyXSqtyaF96mK', 'artist_uri': 'spotify:artist:23NIwARd4vPbxt3wwNnJ6k', 'track_name': 'Instant Disassembly', 'album_uri': 'spotify:album:2hamtboXQEXAt87uUG8Gd5', 'duration_ms': 432026, 'album_name': 'Sunbathing Animal'}, {'pos': 23, 'artist_name': 'Parquet Courts', 'track_uri': 'spotify:track:5MEZPfkp28bAJXyLRZfYlS', 'artist_uri': 'spotify:artist:23NIwARd4vPbxt3wwNnJ6k', 'track_name': 'Ducking And Dodging', 'album_uri': 'spotify:album:2hamtboXQEXAt87uUG8Gd5', 'duration_ms': 269346, 'album_name': 'Sunbathing Animal'}, {'pos': 24, 'artist_name': 'Parquet Courts', 'track_uri': 'spotify:track:2Ax40aWlG4xafoOilB9G26', 'artist_uri': 'spotify:artist:23NIwARd4vPbxt3wwNnJ6k', 'track_name': 'Raw Milk', 'album_uri': 'spotify:album:2hamtboXQEXAt87uUG8Gd5', 'duration_ms': 239746, 'album_name': 'Sunbathing Animal'}, {'pos': 25, 'artist_name': 'Parquet Courts', 'track_uri': 'spotify:track:2Mq1vVM6TUpq2nh5SbORNT', 'artist_uri': 'spotify:artist:23NIwARd4vPbxt3wwNnJ6k', 'track_name': 'Into The Garden', 'album_uri': 'spotify:album:2hamtboXQEXAt87uUG8Gd5', 'duration_ms': 180506, 'album_name': 'Sunbathing Animal'}, {'pos': 26, 'artist_name': 'Parquet Courts', 'track_uri': 'spotify:track:25JD35LDh7CEJ9gKUNruVj', 'artist_uri': 'spotify:artist:23NIwARd4vPbxt3wwNnJ6k', 'track_name': 'Everyday it Starts', 'album_uri': 'spotify:album:0Zj7AxTX3Q312lz6GLFTrt', 'duration_ms': 176026, 'album_name': 'Content Nausea'}, {'pos': 27, 'artist_name': 'Parquet Courts', 'track_uri': 'spotify:track:24bk2iKzr3VcymFnzIy3oS', 'artist_uri': 'spotify:artist:23NIwARd4vPbxt3wwNnJ6k', 'track_name': 'Content Nausea', 'album_uri': 'spotify:album:0Zj7AxTX3Q312lz6GLFTrt', 'duration_ms': 183999, 'album_name': 'Content Nausea'}, {'pos': 28, 'artist_name': 'Parquet Courts', 'track_uri': 'spotify:track:1FSnDovZWXroRumXp9pQ5c', 'artist_uri': 'spotify:artist:23NIwARd4vPbxt3wwNnJ6k', 'track_name': 'Urban Ease', 'album_uri': 'spotify:album:0Zj7AxTX3Q312lz6GLFTrt', 'duration_ms': 55906, 'album_name': 'Content Nausea'}, {'pos': 29, 'artist_name': 'Parquet Courts', 'track_uri': 'spotify:track:7rjK8CDTtTn2KG9Zja7ETj', 'artist_uri': 'spotify:artist:23NIwARd4vPbxt3wwNnJ6k', 'track_name': 'Slide Machine', 'album_uri': 'spotify:album:0Zj7AxTX3Q312lz6GLFTrt', 'duration_ms': 262426, 'album_name': 'Content Nausea'}, {'pos': 30, 'artist_name': 'Parquet Courts', 'track_uri': 'spotify:track:56rtYZUhNQ9Xt95mfE1qNE', 'artist_uri': 'spotify:artist:23NIwARd4vPbxt3wwNnJ6k', 'track_name': 'Kevlar Walls', 'album_uri': 'spotify:album:0Zj7AxTX3Q312lz6GLFTrt', 'duration_ms': 59093, 'album_name': 'Content Nausea'}, {'pos': 31, 'artist_name': 'Parquet Courts', 'track_uri': 'spotify:track:1zPn4tfkWfowVG3ROo1wUY', 'artist_uri': 'spotify:artist:23NIwARd4vPbxt3wwNnJ6k', 'track_name': 'Pretty Machines', 'album_uri': 'spotify:album:0Zj7AxTX3Q312lz6GLFTrt', 'duration_ms': 281333, 'album_name': 'Content Nausea'}, {'pos': 32, 'artist_name': 'Parquet Courts', 'track_uri': 'spotify:track:64Ci6z1RDlZNnXpgqGF5or', 'artist_uri': 'spotify:artist:23NIwARd4vPbxt3wwNnJ6k', 'track_name': 'Psycho Structures', 'album_uri': 'spotify:album:0Zj7AxTX3Q312lz6GLFTrt', 'duration_ms': 173106, 'album_name': 'Content Nausea'}, {'pos': 33, 'artist_name': 'Parquet Courts', 'track_uri': 'spotify:track:0uV5lCaTMaJ7eAFr6LlITy', 'artist_uri': 'spotify:artist:23NIwARd4vPbxt3wwNnJ6k', 'track_name': 'The Map', 'album_uri': 'spotify:album:0Zj7AxTX3Q312lz6GLFTrt', 'duration_ms': 175093, 'album_name': 'Content Nausea'}, {'pos': 34, 'artist_name': 'Parquet Courts', 'track_uri': 'spotify:track:30zu86EEznmn8Vvp1cKRn7', 'artist_uri': 'spotify:artist:23NIwARd4vPbxt3wwNnJ6k', 'track_name': \"These Boots Are Made for Walkin'\", 'album_uri': 'spotify:album:0Zj7AxTX3Q312lz6GLFTrt', 'duration_ms': 211333, 'album_name': 'Content Nausea'}, {'pos': 35, 'artist_name': 'Parquet Courts', 'track_uri': 'spotify:track:1u4iac5xzlzD2reO20qxcs', 'artist_uri': 'spotify:artist:23NIwARd4vPbxt3wwNnJ6k', 'track_name': 'Insufferable', 'album_uri': 'spotify:album:0Zj7AxTX3Q312lz6GLFTrt', 'duration_ms': 95920, 'album_name': 'Content Nausea'}, {'pos': 36, 'artist_name': 'Parquet Courts', 'track_uri': 'spotify:track:0DNhKHV549c7RHIWw7WttH', 'artist_uri': 'spotify:artist:23NIwARd4vPbxt3wwNnJ6k', 'track_name': 'No Concept', 'album_uri': 'spotify:album:0Zj7AxTX3Q312lz6GLFTrt', 'duration_ms': 43253, 'album_name': 'Content Nausea'}, {'pos': 37, 'artist_name': 'Parquet Courts', 'track_uri': 'spotify:track:4rU6Yb8admwqo5yBd8kkL6', 'artist_uri': 'spotify:artist:23NIwARd4vPbxt3wwNnJ6k', 'track_name': 'Uncast Shadow of a Southern Myth', 'album_uri': 'spotify:album:0Zj7AxTX3Q312lz6GLFTrt', 'duration_ms': 386760, 'album_name': 'Content Nausea'}, {'pos': 38, 'artist_name': 'Parquet Courts', 'track_uri': 'spotify:track:6xa1fK83gBsH9xeDkkotUc', 'artist_uri': 'spotify:artist:23NIwARd4vPbxt3wwNnJ6k', 'track_name': 'Master Of My Craft', 'album_uri': 'spotify:album:1aYXn1WnQWLTmOpQtKVeYJ', 'duration_ms': 190346, 'album_name': 'Light Up Gold'}, {'pos': 39, 'artist_name': 'Parquet Courts', 'track_uri': 'spotify:track:6PE6tyl9QnfdNoms0O0czF', 'artist_uri': 'spotify:artist:23NIwARd4vPbxt3wwNnJ6k', 'track_name': 'Borrowed Time', 'album_uri': 'spotify:album:1aYXn1WnQWLTmOpQtKVeYJ', 'duration_ms': 152040, 'album_name': 'Light Up Gold'}, {'pos': 40, 'artist_name': 'Parquet Courts', 'track_uri': 'spotify:track:714p18ksPDRsKpfVLZ1NTf', 'artist_uri': 'spotify:artist:23NIwARd4vPbxt3wwNnJ6k', 'track_name': 'Donuts Only', 'album_uri': 'spotify:album:1aYXn1WnQWLTmOpQtKVeYJ', 'duration_ms': 81280, 'album_name': 'Light Up Gold'}, {'pos': 41, 'artist_name': 'Parquet Courts', 'track_uri': 'spotify:track:4C0ZXJ1tdYPgjnAN5nUyIF', 'artist_uri': 'spotify:artist:23NIwARd4vPbxt3wwNnJ6k', 'track_name': 'Yr No Stoner', 'album_uri': 'spotify:album:1aYXn1WnQWLTmOpQtKVeYJ', 'duration_ms': 110813, 'album_name': 'Light Up Gold'}, {'pos': 42, 'artist_name': 'Parquet Courts', 'track_uri': 'spotify:track:1dNgKc82ECvycnjJSXV4cU', 'artist_uri': 'spotify:artist:23NIwARd4vPbxt3wwNnJ6k', 'track_name': 'Yonder Is Closer to the Heart', 'album_uri': 'spotify:album:1aYXn1WnQWLTmOpQtKVeYJ', 'duration_ms': 179773, 'album_name': 'Light Up Gold'}, {'pos': 43, 'artist_name': 'Parquet Courts', 'track_uri': 'spotify:track:1dcq0rQYarQs44q2n9OHXS', 'artist_uri': 'spotify:artist:23NIwARd4vPbxt3wwNnJ6k', 'track_name': 'Careers In Combat', 'album_uri': 'spotify:album:1aYXn1WnQWLTmOpQtKVeYJ', 'duration_ms': 67453, 'album_name': 'Light Up Gold'}, {'pos': 44, 'artist_name': 'Parquet Courts', 'track_uri': 'spotify:track:6UF4wwpthyhcs47Cr1aVJE', 'artist_uri': 'spotify:artist:23NIwARd4vPbxt3wwNnJ6k', 'track_name': 'Light Up Gold I', 'album_uri': 'spotify:album:7p1ydiRQ7EOYgp4iWPdG3n', 'duration_ms': 18840, 'album_name': 'Light Up Gold'}, {'pos': 45, 'artist_name': 'Parquet Courts', 'track_uri': 'spotify:track:6k8loFrQ14wXQ5bbujxXu9', 'artist_uri': 'spotify:artist:23NIwARd4vPbxt3wwNnJ6k', 'track_name': 'Light Up Gold, Pt. 2', 'album_uri': 'spotify:album:1aYXn1WnQWLTmOpQtKVeYJ', 'duration_ms': 73560, 'album_name': 'Light Up Gold'}, {'pos': 46, 'artist_name': 'Parquet Courts', 'track_uri': 'spotify:track:4e5ZfBMKJJfLKnSYmLoeXO', 'artist_uri': 'spotify:artist:23NIwARd4vPbxt3wwNnJ6k', 'track_name': 'N Dakota', 'album_uri': 'spotify:album:1aYXn1WnQWLTmOpQtKVeYJ', 'duration_ms': 139333, 'album_name': 'Light Up Gold'}, {'pos': 47, 'artist_name': 'Parquet Courts', 'track_uri': 'spotify:track:6CSAKVMzk60vOfG0MJMC6v', 'artist_uri': 'spotify:artist:23NIwARd4vPbxt3wwNnJ6k', 'track_name': 'Stoned And Starving', 'album_uri': 'spotify:album:1aYXn1WnQWLTmOpQtKVeYJ', 'duration_ms': 311680, 'album_name': 'Light Up Gold'}, {'pos': 48, 'artist_name': 'Parquet Courts', 'track_uri': 'spotify:track:0H9w90ZEuNIqegGMnpsVJo', 'artist_uri': 'spotify:artist:23NIwARd4vPbxt3wwNnJ6k', 'track_name': 'No Ideas', 'album_uri': 'spotify:album:1aYXn1WnQWLTmOpQtKVeYJ', 'duration_ms': 157226, 'album_name': 'Light Up Gold'}, {'pos': 49, 'artist_name': 'Parquet Courts', 'track_uri': 'spotify:track:4bFiSYt1JMDtUXPw0lmkwo', 'artist_uri': 'spotify:artist:23NIwARd4vPbxt3wwNnJ6k', 'track_name': 'Caster Of Worthless Spells', 'album_uri': 'spotify:album:1aYXn1WnQWLTmOpQtKVeYJ', 'duration_ms': 78013, 'album_name': 'Light Up Gold'}, {'pos': 50, 'artist_name': 'Parquet Courts', 'track_uri': 'spotify:track:4Fg7pilwwzlTQtLXhO2ZlN', 'artist_uri': 'spotify:artist:23NIwARd4vPbxt3wwNnJ6k', 'track_name': 'Disney P.T.', 'album_uri': 'spotify:album:1aYXn1WnQWLTmOpQtKVeYJ', 'duration_ms': 72840, 'album_name': 'Light Up Gold'}, {'pos': 51, 'artist_name': 'Parquet Courts', 'track_uri': 'spotify:track:3QjhzxAEIMhyY37FeVW55L', 'artist_uri': 'spotify:artist:23NIwARd4vPbxt3wwNnJ6k', 'track_name': 'Tears O Plenty', 'album_uri': 'spotify:album:1aYXn1WnQWLTmOpQtKVeYJ', 'duration_ms': 195893, 'album_name': 'Light Up Gold'}, {'pos': 52, 'artist_name': 'Parquet Courts', 'track_uri': 'spotify:track:0RensS2qAveOZwiRN3jdEs', 'artist_uri': 'spotify:artist:23NIwARd4vPbxt3wwNnJ6k', 'track_name': 'Picture Of Health', 'album_uri': 'spotify:album:1aYXn1WnQWLTmOpQtKVeYJ', 'duration_ms': 164520, 'album_name': 'Light Up Gold'}, {'pos': 53, 'artist_name': 'Palma Violets', 'track_uri': 'spotify:track:5JN26x8XsxQw5W5zoII0uy', 'artist_uri': 'spotify:artist:3sVKVwY8TD445BiC6Q4B43', 'track_name': 'Danger in the Club', 'album_uri': 'spotify:album:198Ci3fCoEGICZbDm21qYG', 'duration_ms': 206991, 'album_name': 'Danger in the Club'}, {'pos': 54, 'artist_name': 'Palma Violets', 'track_uri': 'spotify:track:64N8jkSty7HGSpwRm6RKrD', 'artist_uri': 'spotify:artist:3sVKVwY8TD445BiC6Q4B43', 'track_name': 'Best of Friends', 'album_uri': 'spotify:album:7pRlHTBSENFfpnfNpPllpv', 'duration_ms': 210067, 'album_name': '180'}, {'pos': 55, 'artist_name': 'Palma Violets', 'track_uri': 'spotify:track:2WRh5NjSCLdaynh890QGLb', 'artist_uri': 'spotify:artist:3sVKVwY8TD445BiC6Q4B43', 'track_name': 'Step Up for the Cool Cats', 'album_uri': 'spotify:album:7pRlHTBSENFfpnfNpPllpv', 'duration_ms': 188000, 'album_name': '180'}, {'pos': 56, 'artist_name': 'Palma Violets', 'track_uri': 'spotify:track:3hzhzyiwnhVYc4IjKbsPxC', 'artist_uri': 'spotify:artist:3sVKVwY8TD445BiC6Q4B43', 'track_name': 'All the Garden Birds', 'album_uri': 'spotify:album:7pRlHTBSENFfpnfNpPllpv', 'duration_ms': 190160, 'album_name': '180'}, {'pos': 57, 'artist_name': 'Palma Violets', 'track_uri': 'spotify:track:6NRZOQKV81QQnefQndl89o', 'artist_uri': 'spotify:artist:3sVKVwY8TD445BiC6Q4B43', 'track_name': 'Rattlesnake Highway', 'album_uri': 'spotify:album:7pRlHTBSENFfpnfNpPllpv', 'duration_ms': 156053, 'album_name': '180'}, {'pos': 58, 'artist_name': 'Palma Violets', 'track_uri': 'spotify:track:1zQ9lKQwzPs2wlqvclOZvk', 'artist_uri': 'spotify:artist:3sVKVwY8TD445BiC6Q4B43', 'track_name': 'Chicken Dippers', 'album_uri': 'spotify:album:7pRlHTBSENFfpnfNpPllpv', 'duration_ms': 188706, 'album_name': '180'}, {'pos': 59, 'artist_name': 'Palma Violets', 'track_uri': 'spotify:track:1RvbjQWhpiN2ogsv06K1b7', 'artist_uri': 'spotify:artist:3sVKVwY8TD445BiC6Q4B43', 'track_name': 'Last of the Summer Wine', 'album_uri': 'spotify:album:7pRlHTBSENFfpnfNpPllpv', 'duration_ms': 249920, 'album_name': '180'}, {'pos': 60, 'artist_name': 'Palma Violets', 'track_uri': 'spotify:track:3gOh2tK0IPojf6tzg5TEYg', 'artist_uri': 'spotify:artist:3sVKVwY8TD445BiC6Q4B43', 'track_name': 'Tom the Drum', 'album_uri': 'spotify:album:7pRlHTBSENFfpnfNpPllpv', 'duration_ms': 152426, 'album_name': '180'}, {'pos': 61, 'artist_name': 'Palma Violets', 'track_uri': 'spotify:track:5VdOWUSipgyke2WQEbgdtS', 'artist_uri': 'spotify:artist:3sVKVwY8TD445BiC6Q4B43', 'track_name': \"Johnny Bagga' Donuts\", 'album_uri': 'spotify:album:7pRlHTBSENFfpnfNpPllpv', 'duration_ms': 187786, 'album_name': '180'}, {'pos': 62, 'artist_name': 'Palma Violets', 'track_uri': 'spotify:track:1mDWtUizjJrqHOOwBNAoSh', 'artist_uri': 'spotify:artist:3sVKVwY8TD445BiC6Q4B43', 'track_name': 'We Found Love', 'album_uri': 'spotify:album:7pRlHTBSENFfpnfNpPllpv', 'duration_ms': 196053, 'album_name': '180'}, {'pos': 63, 'artist_name': 'Palma Violets', 'track_uri': 'spotify:track:4kCppHykdLyMcoAbUthNgB', 'artist_uri': 'spotify:artist:3sVKVwY8TD445BiC6Q4B43', 'track_name': '3 Stars', 'album_uri': 'spotify:album:7pRlHTBSENFfpnfNpPllpv', 'duration_ms': 231546, 'album_name': '180'}, {'pos': 64, 'artist_name': 'Palma Violets', 'track_uri': 'spotify:track:1SL6gnpIajQXb78pw3uDy9', 'artist_uri': 'spotify:artist:3sVKVwY8TD445BiC6Q4B43', 'track_name': '14', 'album_uri': 'spotify:album:7pRlHTBSENFfpnfNpPllpv', 'duration_ms': 483333, 'album_name': '180'}, {'pos': 65, 'artist_name': 'The Orwells', 'track_uri': 'spotify:track:2LJ2VQL1bklQpAnO0Y69a0', 'artist_uri': 'spotify:artist:7ia4FaCVsbXvhVwagCJk7l', 'track_name': 'Southern Comfort', 'album_uri': 'spotify:album:1fQBO5rMjjml5ynOiiqPi3', 'duration_ms': 164000, 'album_name': 'Disgraceland'}, {'pos': 66, 'artist_name': 'The Orwells', 'track_uri': 'spotify:track:5drYpn6xtaI4LavbQXevjX', 'artist_uri': 'spotify:artist:7ia4FaCVsbXvhVwagCJk7l', 'track_name': 'The Righteous One', 'album_uri': 'spotify:album:1fQBO5rMjjml5ynOiiqPi3', 'duration_ms': 215560, 'album_name': 'Disgraceland'}, {'pos': 67, 'artist_name': 'The Orwells', 'track_uri': 'spotify:track:4FXcRL1ypko0aRZx1UBEGA', 'artist_uri': 'spotify:artist:7ia4FaCVsbXvhVwagCJk7l', 'track_name': 'Dirty Sheets', 'album_uri': 'spotify:album:1fQBO5rMjjml5ynOiiqPi3', 'duration_ms': 149880, 'album_name': 'Disgraceland'}, {'pos': 68, 'artist_name': 'The Orwells', 'track_uri': 'spotify:track:1Vcj7I8Tj3BZPZW6p24rK2', 'artist_uri': 'spotify:artist:7ia4FaCVsbXvhVwagCJk7l', 'track_name': 'Bathroom Tile Blues', 'album_uri': 'spotify:album:1fQBO5rMjjml5ynOiiqPi3', 'duration_ms': 190906, 'album_name': 'Disgraceland'}, {'pos': 69, 'artist_name': 'The Orwells', 'track_uri': 'spotify:track:4yJTIvJV6kvF8IruULkTEA', 'artist_uri': 'spotify:artist:7ia4FaCVsbXvhVwagCJk7l', 'track_name': 'Gotta Get Down', 'album_uri': 'spotify:album:1fQBO5rMjjml5ynOiiqPi3', 'duration_ms': 180986, 'album_name': 'Disgraceland'}, {'pos': 70, 'artist_name': 'The Orwells', 'track_uri': 'spotify:track:6QzN8Pb5VPdX8CHPM6NkJ0', 'artist_uri': 'spotify:artist:7ia4FaCVsbXvhVwagCJk7l', 'track_name': 'Let It Burn', 'album_uri': 'spotify:album:1fQBO5rMjjml5ynOiiqPi3', 'duration_ms': 209973, 'album_name': 'Disgraceland'}, {'pos': 71, 'artist_name': 'The Orwells', 'track_uri': 'spotify:track:2x4F1O1fGO6yj860N2Or0N', 'artist_uri': 'spotify:artist:7ia4FaCVsbXvhVwagCJk7l', 'track_name': 'Who Needs You', 'album_uri': 'spotify:album:1fQBO5rMjjml5ynOiiqPi3', 'duration_ms': 198880, 'album_name': 'Disgraceland'}, {'pos': 72, 'artist_name': 'The Orwells', 'track_uri': 'spotify:track:4WwMXwu3O6VLHGdBtCwvLO', 'artist_uri': 'spotify:artist:7ia4FaCVsbXvhVwagCJk7l', 'track_name': 'Norman', 'album_uri': 'spotify:album:1fQBO5rMjjml5ynOiiqPi3', 'duration_ms': 263973, 'album_name': 'Disgraceland'}, {'pos': 73, 'artist_name': 'The Orwells', 'track_uri': 'spotify:track:6r51t6szECkyxfN4rX6yqs', 'artist_uri': 'spotify:artist:7ia4FaCVsbXvhVwagCJk7l', 'track_name': 'Always N Forever', 'album_uri': 'spotify:album:1fQBO5rMjjml5ynOiiqPi3', 'duration_ms': 161613, 'album_name': 'Disgraceland'}, {'pos': 74, 'artist_name': 'The Orwells', 'track_uri': 'spotify:track:5dVBcLGo5Kw7ZbRo4dFouS', 'artist_uri': 'spotify:artist:7ia4FaCVsbXvhVwagCJk7l', 'track_name': 'Blood Bubbles', 'album_uri': 'spotify:album:1fQBO5rMjjml5ynOiiqPi3', 'duration_ms': 190520, 'album_name': 'Disgraceland'}, {'pos': 75, 'artist_name': 'The Orwells', 'track_uri': 'spotify:track:0UKNXZoQn0CYCPlp2f4kYQ', 'artist_uri': 'spotify:artist:7ia4FaCVsbXvhVwagCJk7l', 'track_name': 'North Ave.', 'album_uri': 'spotify:album:1fQBO5rMjjml5ynOiiqPi3', 'duration_ms': 194800, 'album_name': 'Disgraceland'}, {'pos': 76, 'artist_name': 'The Orwells', 'track_uri': 'spotify:track:3YC5sgceXFCDZE8f7joNxR', 'artist_uri': 'spotify:artist:7ia4FaCVsbXvhVwagCJk7l', 'track_name': 'Lays At Rest', 'album_uri': 'spotify:album:5xzCguZueCPNgl8sp2vR7t', 'duration_ms': 238942, 'album_name': 'Remember When'}, {'pos': 77, 'artist_name': 'The Orwells', 'track_uri': 'spotify:track:18OB8P9DAP4aF6mq9vMYp8', 'artist_uri': 'spotify:artist:7ia4FaCVsbXvhVwagCJk7l', 'track_name': 'Mallrats (La La La)', 'album_uri': 'spotify:album:5xzCguZueCPNgl8sp2vR7t', 'duration_ms': 180117, 'album_name': 'Remember When'}, {'pos': 78, 'artist_name': 'The Orwells', 'track_uri': 'spotify:track:2LwoB7dTa3B39a1r6Dnduj', 'artist_uri': 'spotify:artist:7ia4FaCVsbXvhVwagCJk7l', 'track_name': 'Halloween All Year', 'album_uri': 'spotify:album:5xzCguZueCPNgl8sp2vR7t', 'duration_ms': 211043, 'album_name': 'Remember When'}, {'pos': 79, 'artist_name': 'The Orwells', 'track_uri': 'spotify:track:0UHOJrIJpVxLmQ9U1695Xz', 'artist_uri': 'spotify:artist:7ia4FaCVsbXvhVwagCJk7l', 'track_name': 'All The Cool Kids', 'album_uri': 'spotify:album:5xzCguZueCPNgl8sp2vR7t', 'duration_ms': 166295, 'album_name': 'Remember When'}, {'pos': 80, 'artist_name': 'The Orwells', 'track_uri': 'spotify:track:1rgUa2OKsPgMWpTwWC9hPV', 'artist_uri': 'spotify:artist:7ia4FaCVsbXvhVwagCJk7l', 'track_name': 'Suspended', 'album_uri': 'spotify:album:5xzCguZueCPNgl8sp2vR7t', 'duration_ms': 148282, 'album_name': 'Remember When'}, {'pos': 81, 'artist_name': 'The Orwells', 'track_uri': 'spotify:track:3mc9zfng9N2Pl1htAAkbTB', 'artist_uri': 'spotify:artist:7ia4FaCVsbXvhVwagCJk7l', 'track_name': 'Painted Faces and Long Hair', 'album_uri': 'spotify:album:5xzCguZueCPNgl8sp2vR7t', 'duration_ms': 167392, 'album_name': 'Remember When'}, {'pos': 82, 'artist_name': 'The Orwells', 'track_uri': 'spotify:track:1GqfuGDmnaeoAYA35Knwgh', 'artist_uri': 'spotify:artist:7ia4FaCVsbXvhVwagCJk7l', 'track_name': 'Hallway Homicide', 'album_uri': 'spotify:album:5xzCguZueCPNgl8sp2vR7t', 'duration_ms': 151875, 'album_name': 'Remember When'}, {'pos': 83, 'artist_name': 'The Orwells', 'track_uri': 'spotify:track:5ZxIQNPTQmxsgjBdf1ZmmQ', 'artist_uri': 'spotify:artist:7ia4FaCVsbXvhVwagCJk7l', 'track_name': 'In My Bed', 'album_uri': 'spotify:album:5xzCguZueCPNgl8sp2vR7t', 'duration_ms': 146337, 'album_name': 'Remember When'}, {'pos': 84, 'artist_name': 'The Orwells', 'track_uri': 'spotify:track:3BKFmbdQjdzLT93JG8G8NH', 'artist_uri': 'spotify:artist:7ia4FaCVsbXvhVwagCJk7l', 'track_name': 'Never Ever', 'album_uri': 'spotify:album:5xzCguZueCPNgl8sp2vR7t', 'duration_ms': 247301, 'album_name': 'Remember When'}, {'pos': 85, 'artist_name': 'The Orwells', 'track_uri': 'spotify:track:6Se77P4JhuDTRylZyyl0lr', 'artist_uri': 'spotify:artist:7ia4FaCVsbXvhVwagCJk7l', 'track_name': 'Live No One Else', 'album_uri': 'spotify:album:5xzCguZueCPNgl8sp2vR7t', 'duration_ms': 149289, 'album_name': 'Remember When'}, {'pos': 86, 'artist_name': 'The Orwells', 'track_uri': 'spotify:track:72XKm2qeGivsnXDs8gRYM4', 'artist_uri': 'spotify:artist:7ia4FaCVsbXvhVwagCJk7l', 'track_name': 'Ancient Egypt', 'album_uri': 'spotify:album:5xzCguZueCPNgl8sp2vR7t', 'duration_ms': 309237, 'album_name': 'Remember When'}, {'pos': 87, 'artist_name': 'The Orwells', 'track_uri': 'spotify:track:21HkamszZzQ3xqa3PVBsEq', 'artist_uri': 'spotify:artist:7ia4FaCVsbXvhVwagCJk7l', 'track_name': 'Under The Flowers', 'album_uri': 'spotify:album:5xzCguZueCPNgl8sp2vR7t', 'duration_ms': 232568, 'album_name': 'Remember When'}, {'pos': 88, 'artist_name': 'Japandroids', 'track_uri': 'spotify:track:1lsxBwhhgm0xUYCQwISwdB', 'artist_uri': 'spotify:artist:2WcCoPxAWFNSCvsFPrpf30', 'track_name': 'The Nights of Wine and Roses', 'album_uri': 'spotify:album:2sY9WYVH022ulyAYaqvXLW', 'duration_ms': 242235, 'album_name': 'Celebration Rock'}, {'pos': 89, 'artist_name': 'Japandroids', 'track_uri': 'spotify:track:7pjyI9ulr1P3xR2JtFp3IG', 'artist_uri': 'spotify:artist:2WcCoPxAWFNSCvsFPrpf30', 'track_name': \"Fire's Highway\", 'album_uri': 'spotify:album:2sY9WYVH022ulyAYaqvXLW', 'duration_ms': 283695, 'album_name': 'Celebration Rock'}, {'pos': 90, 'artist_name': 'Japandroids', 'track_uri': 'spotify:track:0cMeyVzzSstLgkxMBcu2G5', 'artist_uri': 'spotify:artist:2WcCoPxAWFNSCvsFPrpf30', 'track_name': \"Evil's Sway\", 'album_uri': 'spotify:album:2sY9WYVH022ulyAYaqvXLW', 'duration_ms': 266530, 'album_name': 'Celebration Rock'}, {'pos': 91, 'artist_name': 'Japandroids', 'track_uri': 'spotify:track:7oAtwYnc4LQqjZYcCC5Yub', 'artist_uri': 'spotify:artist:2WcCoPxAWFNSCvsFPrpf30', 'track_name': 'For the Love of Ivy', 'album_uri': 'spotify:album:2sY9WYVH022ulyAYaqvXLW', 'duration_ms': 253121, 'album_name': 'Celebration Rock'}, {'pos': 92, 'artist_name': 'Japandroids', 'track_uri': 'spotify:track:0sq6L0pQRdMCnQ5N76U4AJ', 'artist_uri': 'spotify:artist:2WcCoPxAWFNSCvsFPrpf30', 'track_name': 'Adrenaline Nightshift', 'album_uri': 'spotify:album:2sY9WYVH022ulyAYaqvXLW', 'duration_ms': 266297, 'album_name': 'Celebration Rock'}, {'pos': 93, 'artist_name': 'Japandroids', 'track_uri': 'spotify:track:5lLyaFsXQ2GASksFhGA9It', 'artist_uri': 'spotify:artist:2WcCoPxAWFNSCvsFPrpf30', 'track_name': 'Younger Us', 'album_uri': 'spotify:album:2sY9WYVH022ulyAYaqvXLW', 'duration_ms': 212912, 'album_name': 'Celebration Rock'}, {'pos': 94, 'artist_name': 'Japandroids', 'track_uri': 'spotify:track:2dcmQJCw1INGn7yR2KHx0U', 'artist_uri': 'spotify:artist:2WcCoPxAWFNSCvsFPrpf30', 'track_name': 'The House That Heaven Built', 'album_uri': 'spotify:album:2sY9WYVH022ulyAYaqvXLW', 'duration_ms': 289150, 'album_name': 'Celebration Rock'}, {'pos': 95, 'artist_name': 'Japandroids', 'track_uri': 'spotify:track:1WTMcJpdYwVeXOaqG3X68E', 'artist_uri': 'spotify:artist:2WcCoPxAWFNSCvsFPrpf30', 'track_name': 'Continuous Thunder', 'album_uri': 'spotify:album:2sY9WYVH022ulyAYaqvXLW', 'duration_ms': 299074, 'album_name': 'Celebration Rock'}, {'pos': 96, 'artist_name': 'Titus Andronicus', 'track_uri': 'spotify:track:2miVlAw3K7wn7zwhkkUFzt', 'artist_uri': 'spotify:artist:5lJ4XQ2hlPlxACN7q3xKL1', 'track_name': 'Ecce Homo', 'album_uri': 'spotify:album:4dx4Khp1YnIcZrTTdRHy1I', 'duration_ms': 311440, 'album_name': 'Local Business'}, {'pos': 97, 'artist_name': 'Titus Andronicus', 'track_uri': 'spotify:track:2Awmv0PapoZw58WzDHfjAh', 'artist_uri': 'spotify:artist:5lJ4XQ2hlPlxACN7q3xKL1', 'track_name': 'Still Life With Hot Deuce On Silver Platter', 'album_uri': 'spotify:album:4dx4Khp1YnIcZrTTdRHy1I', 'duration_ms': 330053, 'album_name': 'Local Business'}, {'pos': 98, 'artist_name': 'Titus Andronicus', 'track_uri': 'spotify:track:1NVGKL5giCzzuH0KubPaQ2', 'artist_uri': 'spotify:artist:5lJ4XQ2hlPlxACN7q3xKL1', 'track_name': \"Upon Viewing Oregon's Landscape With The Flood Of Detritus\", 'album_uri': 'spotify:album:4dx4Khp1YnIcZrTTdRHy1I', 'duration_ms': 207306, 'album_name': 'Local Business'}, {'pos': 99, 'artist_name': 'Titus Andronicus', 'track_uri': 'spotify:track:3YvChf5VPbuK6LAWQbybHH', 'artist_uri': 'spotify:artist:5lJ4XQ2hlPlxACN7q3xKL1', 'track_name': 'Food Fight!', 'album_uri': 'spotify:album:4dx4Khp1YnIcZrTTdRHy1I', 'duration_ms': 69240, 'album_name': 'Local Business'}, {'pos': 100, 'artist_name': 'Titus Andronicus', 'track_uri': 'spotify:track:3YsCDnRLKnf1aikxfaaIyG', 'artist_uri': 'spotify:artist:5lJ4XQ2hlPlxACN7q3xKL1', 'track_name': 'My Eating Disorder', 'album_uri': 'spotify:album:4dx4Khp1YnIcZrTTdRHy1I', 'duration_ms': 492520, 'album_name': 'Local Business'}, {'pos': 101, 'artist_name': 'Titus Andronicus', 'track_uri': 'spotify:track:3S81yqY2CsAOB66eMQapzo', 'artist_uri': 'spotify:artist:5lJ4XQ2hlPlxACN7q3xKL1', 'track_name': 'Titus Andronicus vs. The Absurd Universe (3rd Round KO)', 'album_uri': 'spotify:album:4dx4Khp1YnIcZrTTdRHy1I', 'duration_ms': 129759, 'album_name': 'Local Business'}, {'pos': 102, 'artist_name': 'Titus Andronicus', 'track_uri': 'spotify:track:5vsURjn9dliJLwrpcpVNHw', 'artist_uri': 'spotify:artist:5lJ4XQ2hlPlxACN7q3xKL1', 'track_name': 'In A Big City', 'album_uri': 'spotify:album:4dx4Khp1YnIcZrTTdRHy1I', 'duration_ms': 215586, 'album_name': 'Local Business'}, {'pos': 103, 'artist_name': 'Titus Andronicus', 'track_uri': 'spotify:track:0OH5uEzf74MDn9cBWGVMsE', 'artist_uri': 'spotify:artist:5lJ4XQ2hlPlxACN7q3xKL1', 'track_name': 'In A Small Body', 'album_uri': 'spotify:album:4dx4Khp1YnIcZrTTdRHy1I', 'duration_ms': 371506, 'album_name': 'Local Business'}, {'pos': 104, 'artist_name': 'Titus Andronicus', 'track_uri': 'spotify:track:0nhEBwZZ5o0yyI1r2ch6df', 'artist_uri': 'spotify:artist:5lJ4XQ2hlPlxACN7q3xKL1', 'track_name': '(I Am The) Electric Man', 'album_uri': 'spotify:album:4dx4Khp1YnIcZrTTdRHy1I', 'duration_ms': 254893, 'album_name': 'Local Business'}, {'pos': 105, 'artist_name': 'Titus Andronicus', 'track_uri': 'spotify:track:2dwiuL5NFb1axTs4m6qVLt', 'artist_uri': 'spotify:artist:5lJ4XQ2hlPlxACN7q3xKL1', 'track_name': 'Tried To Quit Smoking', 'album_uri': 'spotify:album:4dx4Khp1YnIcZrTTdRHy1I', 'duration_ms': 584626, 'album_name': 'Local Business'}, {'pos': 106, 'artist_name': 'Titus Andronicus', 'track_uri': 'spotify:track:515qE0YyUWivEobvHGpN7o', 'artist_uri': 'spotify:artist:5lJ4XQ2hlPlxACN7q3xKL1', 'track_name': 'A More Perfect Union', 'album_uri': 'spotify:album:5U09FQWagzAU5HPmufUAlU', 'duration_ms': 429586, 'album_name': 'The Monitor'}, {'pos': 107, 'artist_name': 'Titus Andronicus', 'track_uri': 'spotify:track:4KK2RftZcEydipbeZApQwO', 'artist_uri': 'spotify:artist:5lJ4XQ2hlPlxACN7q3xKL1', 'track_name': 'Titus Andronicus Forever', 'album_uri': 'spotify:album:5U09FQWagzAU5HPmufUAlU', 'duration_ms': 115226, 'album_name': 'The Monitor'}, {'pos': 108, 'artist_name': 'Titus Andronicus', 'track_uri': 'spotify:track:0S1EakeRmbMBpGzPezQMJr', 'artist_uri': 'spotify:artist:5lJ4XQ2hlPlxACN7q3xKL1', 'track_name': 'No Future Part Three: Escape From No Future', 'album_uri': 'spotify:album:5U09FQWagzAU5HPmufUAlU', 'duration_ms': 316453, 'album_name': 'The Monitor'}, {'pos': 109, 'artist_name': 'Titus Andronicus', 'track_uri': 'spotify:track:4j8Aoe3evloXqlMVVFrcHc', 'artist_uri': 'spotify:artist:5lJ4XQ2hlPlxACN7q3xKL1', 'track_name': 'Richard II Or Extraordinary Popular Dimensions And The Madness Of Crowds (Responsible Hate Anthem)', 'album_uri': 'spotify:album:5U09FQWagzAU5HPmufUAlU', 'duration_ms': 306933, 'album_name': 'The Monitor'}, {'pos': 110, 'artist_name': 'Titus Andronicus', 'track_uri': 'spotify:track:0SRxlZCMW4dqBIZkB15K9H', 'artist_uri': 'spotify:artist:5lJ4XQ2hlPlxACN7q3xKL1', 'track_name': 'A Pot In Which To Piss', 'album_uri': 'spotify:album:5U09FQWagzAU5HPmufUAlU', 'duration_ms': 533893, 'album_name': 'The Monitor'}, {'pos': 111, 'artist_name': 'Titus Andronicus', 'track_uri': 'spotify:track:3GAMbmqZBK6RxafBOTttRk', 'artist_uri': 'spotify:artist:5lJ4XQ2hlPlxACN7q3xKL1', 'track_name': 'Four Score And Seven', 'album_uri': 'spotify:album:5U09FQWagzAU5HPmufUAlU', 'duration_ms': 518906, 'album_name': 'The Monitor'}, {'pos': 112, 'artist_name': 'Titus Andronicus', 'track_uri': 'spotify:track:6mLjLOxwAbRTZcay0f6RhV', 'artist_uri': 'spotify:artist:5lJ4XQ2hlPlxACN7q3xKL1', 'track_name': 'Theme From “Cheers\"', 'album_uri': 'spotify:album:5U09FQWagzAU5HPmufUAlU', 'duration_ms': 301893, 'album_name': 'The Monitor'}, {'pos': 113, 'artist_name': 'Titus Andronicus', 'track_uri': 'spotify:track:77gCHqMEFKHPbpxVgcbWef', 'artist_uri': 'spotify:artist:5lJ4XQ2hlPlxACN7q3xKL1', 'track_name': 'To Old Friends And New', 'album_uri': 'spotify:album:5U09FQWagzAU5HPmufUAlU', 'duration_ms': 420546, 'album_name': 'The Monitor'}, {'pos': 114, 'artist_name': 'Titus Andronicus', 'track_uri': 'spotify:track:08TOTr1QdRDyKd8Zkc6dbP', 'artist_uri': 'spotify:artist:5lJ4XQ2hlPlxACN7q3xKL1', 'track_name': '...And Ever', 'album_uri': 'spotify:album:5U09FQWagzAU5HPmufUAlU', 'duration_ms': 144306, 'album_name': 'The Monitor'}, {'pos': 115, 'artist_name': 'Titus Andronicus', 'track_uri': 'spotify:track:36DRRyVWwc0aypv0vaS9AL', 'artist_uri': 'spotify:artist:5lJ4XQ2hlPlxACN7q3xKL1', 'track_name': 'The Battle Of Hampton Roads', 'album_uri': 'spotify:album:5U09FQWagzAU5HPmufUAlU', 'duration_ms': 841946, 'album_name': 'The Monitor'}, {'pos': 116, 'artist_name': 'Restorations', 'track_uri': 'spotify:track:2dvZpdhqL6uJD5BuRJX3fc', 'artist_uri': 'spotify:artist:7emzuJJA7yCSe3lFP0geRX', 'track_name': 'Wales', 'album_uri': 'spotify:album:5SThok56qPZWKBkCgo1jvX', 'duration_ms': 257333, 'album_name': 'LP3'}, {'pos': 117, 'artist_name': 'Restorations', 'track_uri': 'spotify:track:3KBfFvQAje115DjYT6lBOB', 'artist_uri': 'spotify:artist:7emzuJJA7yCSe3lFP0geRX', 'track_name': 'Separate Songs', 'album_uri': 'spotify:album:5SThok56qPZWKBkCgo1jvX', 'duration_ms': 217906, 'album_name': 'LP3'}, {'pos': 118, 'artist_name': 'Restorations', 'track_uri': 'spotify:track:2KI7emRST7OVdRpl6hmn5p', 'artist_uri': 'spotify:artist:7emzuJJA7yCSe3lFP0geRX', 'track_name': 'Misprint', 'album_uri': 'spotify:album:5SThok56qPZWKBkCgo1jvX', 'duration_ms': 297520, 'album_name': 'LP3'}, {'pos': 119, 'artist_name': 'Restorations', 'track_uri': 'spotify:track:4orbjP0tCRTyz1mzaBBNfe', 'artist_uri': 'spotify:artist:7emzuJJA7yCSe3lFP0geRX', 'track_name': 'Tiny Prayers', 'album_uri': 'spotify:album:5SThok56qPZWKBkCgo1jvX', 'duration_ms': 270813, 'album_name': 'LP3'}, {'pos': 120, 'artist_name': 'Restorations', 'track_uri': 'spotify:track:7c1UFQ7Qz64Om2zPfqqPpW', 'artist_uri': 'spotify:artist:7emzuJJA7yCSe3lFP0geRX', 'track_name': 'All My Home', 'album_uri': 'spotify:album:5SThok56qPZWKBkCgo1jvX', 'duration_ms': 273506, 'album_name': 'LP3'}, {'pos': 121, 'artist_name': 'Restorations', 'track_uri': 'spotify:track:3C9muPCUnDCeDBdjQR7vcN', 'artist_uri': 'spotify:artist:7emzuJJA7yCSe3lFP0geRX', 'track_name': 'Most Likely A Spy', 'album_uri': 'spotify:album:5SThok56qPZWKBkCgo1jvX', 'duration_ms': 207026, 'album_name': 'LP3'}, {'pos': 122, 'artist_name': 'Restorations', 'track_uri': 'spotify:track:5v1sjQweu2K7GXQVAF7phh', 'artist_uri': 'spotify:artist:7emzuJJA7yCSe3lFP0geRX', 'track_name': 'No Castle', 'album_uri': 'spotify:album:5SThok56qPZWKBkCgo1jvX', 'duration_ms': 223466, 'album_name': 'LP3'}, {'pos': 123, 'artist_name': 'Restorations', 'track_uri': 'spotify:track:0hUYpTyxg5zbSXIyhDSeKA', 'artist_uri': 'spotify:artist:7emzuJJA7yCSe3lFP0geRX', 'track_name': 'The Future', 'album_uri': 'spotify:album:5SThok56qPZWKBkCgo1jvX', 'duration_ms': 263453, 'album_name': 'LP3'}, {'pos': 124, 'artist_name': 'Restorations', 'track_uri': 'spotify:track:5d357Dvky9V1WyNDxCyceR', 'artist_uri': 'spotify:artist:7emzuJJA7yCSe3lFP0geRX', 'track_name': \"It's Not\", 'album_uri': 'spotify:album:5SThok56qPZWKBkCgo1jvX', 'duration_ms': 407520, 'album_name': 'LP3'}, {'pos': 125, 'artist_name': 'Restorations', 'track_uri': 'spotify:track:23JERvjOVqN2Ljup1aVlhJ', 'artist_uri': 'spotify:artist:7emzuJJA7yCSe3lFP0geRX', 'track_name': 'D', 'album_uri': 'spotify:album:17d4mrbdRuyNP6yhhdYhL9', 'duration_ms': 235840, 'album_name': 'LP2'}, {'pos': 126, 'artist_name': 'Restorations', 'track_uri': 'spotify:track:492CfK75NHbZ5qDjGbAu3o', 'artist_uri': 'spotify:artist:7emzuJJA7yCSe3lFP0geRX', 'track_name': \"Let's Blow Up The Sun\", 'album_uri': 'spotify:album:17d4mrbdRuyNP6yhhdYhL9', 'duration_ms': 238786, 'album_name': 'LP2'}, {'pos': 127, 'artist_name': 'Restorations', 'track_uri': 'spotify:track:7rBysCBp3YuE9UBmXQAohk', 'artist_uri': 'spotify:artist:7emzuJJA7yCSe3lFP0geRX', 'track_name': 'Civil Inattention', 'album_uri': 'spotify:album:17d4mrbdRuyNP6yhhdYhL9', 'duration_ms': 251666, 'album_name': 'LP2'}, {'pos': 128, 'artist_name': 'Restorations', 'track_uri': 'spotify:track:7zht6kihnaeBAZdvCnvp1d', 'artist_uri': 'spotify:artist:7emzuJJA7yCSe3lFP0geRX', 'track_name': 'Kind Of Comfort', 'album_uri': 'spotify:album:17d4mrbdRuyNP6yhhdYhL9', 'duration_ms': 172520, 'album_name': 'LP2'}, {'pos': 129, 'artist_name': 'Restorations', 'track_uri': 'spotify:track:5rzxZtUQXVlVEW7u7gKNLe', 'artist_uri': 'spotify:artist:7emzuJJA7yCSe3lFP0geRX', 'track_name': 'In Perpetuity Throughout The Universe', 'album_uri': 'spotify:album:17d4mrbdRuyNP6yhhdYhL9', 'duration_ms': 303506, 'album_name': 'LP2'}, {'pos': 130, 'artist_name': 'Restorations', 'track_uri': 'spotify:track:5l2WIIoa7aSYP2OQpI4viV', 'artist_uri': 'spotify:artist:7emzuJJA7yCSe3lFP0geRX', 'track_name': 'New Old', 'album_uri': 'spotify:album:17d4mrbdRuyNP6yhhdYhL9', 'duration_ms': 220693, 'album_name': 'LP2'}, {'pos': 131, 'artist_name': 'Restorations', 'track_uri': 'spotify:track:3X1fTWrOaoW1T5Fjvfx0W2', 'artist_uri': 'spotify:artist:7emzuJJA7yCSe3lFP0geRX', 'track_name': 'Quit', 'album_uri': 'spotify:album:17d4mrbdRuyNP6yhhdYhL9', 'duration_ms': 222240, 'album_name': 'LP2'}, {'pos': 132, 'artist_name': 'Restorations', 'track_uri': 'spotify:track:5d8to97XIxa3O88B6uL4Xg', 'artist_uri': 'spotify:artist:7emzuJJA7yCSe3lFP0geRX', 'track_name': 'The Plan', 'album_uri': 'spotify:album:17d4mrbdRuyNP6yhhdYhL9', 'duration_ms': 194893, 'album_name': 'LP2'}, {'pos': 133, 'artist_name': 'Restorations', 'track_uri': 'spotify:track:7yC57L1fZa4tO2d9Tptnpb', 'artist_uri': 'spotify:artist:7emzuJJA7yCSe3lFP0geRX', 'track_name': 'Adventure Tortoise', 'album_uri': 'spotify:album:17d4mrbdRuyNP6yhhdYhL9', 'duration_ms': 359053, 'album_name': 'LP2'}, {'pos': 134, 'artist_name': 'Iron Chic', 'track_uri': 'spotify:track:37KUcDdNnH7Bg5C4VfgPUD', 'artist_uri': 'spotify:artist:5H32ktDvTByY5e4zJpfFTa', 'track_name': 'The End', 'album_uri': 'spotify:album:4fJeL4hdOewP135z0z0xhO', 'duration_ms': 73146, 'album_name': 'The Constant One'}, {'pos': 135, 'artist_name': 'Iron Chic', 'track_uri': 'spotify:track:2JQNKY9rKRO9BHwi21S3k6', 'artist_uri': 'spotify:artist:5H32ktDvTByY5e4zJpfFTa', 'track_name': 'Bogus Journey', 'album_uri': 'spotify:album:4fJeL4hdOewP135z0z0xhO', 'duration_ms': 238480, 'album_name': 'The Constant One'}, {'pos': 136, 'artist_name': 'Iron Chic', 'track_uri': 'spotify:track:7xj0BM4VkvmoH3PFCvv6bp', 'artist_uri': 'spotify:artist:5H32ktDvTByY5e4zJpfFTa', 'track_name': '(Castle) Numbskull', 'album_uri': 'spotify:album:4fJeL4hdOewP135z0z0xhO', 'duration_ms': 220386, 'album_name': 'The Constant One'}, {'pos': 137, 'artist_name': 'Iron Chic', 'track_uri': 'spotify:track:6E8GlyT87ySGcPJYZPFuSi', 'artist_uri': 'spotify:artist:5H32ktDvTByY5e4zJpfFTa', 'track_name': 'Wolf Dix Rd.', 'album_uri': 'spotify:album:4fJeL4hdOewP135z0z0xhO', 'duration_ms': 239840, 'album_name': 'The Constant One'}, {'pos': 138, 'artist_name': 'Iron Chic', 'track_uri': 'spotify:track:2eVR59jPSkpWMRD3fdEUZe', 'artist_uri': 'spotify:artist:5H32ktDvTByY5e4zJpfFTa', 'track_name': 'Prototypes', 'album_uri': 'spotify:album:4fJeL4hdOewP135z0z0xhO', 'duration_ms': 146693, 'album_name': 'The Constant One'}, {'pos': 139, 'artist_name': 'Iron Chic', 'track_uri': 'spotify:track:4maiodREzF7MigtHIJxy0E', 'artist_uri': 'spotify:artist:5H32ktDvTByY5e4zJpfFTa', 'track_name': 'Spooky Action At A Distance', 'album_uri': 'spotify:album:4fJeL4hdOewP135z0z0xhO', 'duration_ms': 294133, 'album_name': 'The Constant One'}, {'pos': 140, 'artist_name': 'Iron Chic', 'track_uri': 'spotify:track:4JcwYFckZBq3dYBja5AHJc', 'artist_uri': 'spotify:artist:5H32ktDvTByY5e4zJpfFTa', 'track_name': 'Sounds Like A Pretty Brutal Murder', 'album_uri': 'spotify:album:4fJeL4hdOewP135z0z0xhO', 'duration_ms': 199933, 'album_name': 'The Constant One'}, {'pos': 141, 'artist_name': 'Iron Chic', 'track_uri': 'spotify:track:2MTuxmkcZPxeAihQmeZ2yb', 'artist_uri': 'spotify:artist:5H32ktDvTByY5e4zJpfFTa', 'track_name': 'A Serious House On Serious Earth', 'album_uri': 'spotify:album:4fJeL4hdOewP135z0z0xhO', 'duration_ms': 255813, 'album_name': 'The Constant One'}, {'pos': 142, 'artist_name': 'Iron Chic', 'track_uri': 'spotify:track:1eHUtLoiPhpOFhtQQyLJYW', 'artist_uri': 'spotify:artist:5H32ktDvTByY5e4zJpfFTa', 'track_name': 'True Miserable Experience', 'album_uri': 'spotify:album:4fJeL4hdOewP135z0z0xhO', 'duration_ms': 167773, 'album_name': 'The Constant One'}, {'pos': 143, 'artist_name': 'Iron Chic', 'track_uri': 'spotify:track:1V3gpDM0XvDyVNp34fVQrY', 'artist_uri': 'spotify:artist:5H32ktDvTByY5e4zJpfFTa', 'track_name': \"Don't Drive Angry\", 'album_uri': 'spotify:album:4fJeL4hdOewP135z0z0xhO', 'duration_ms': 229920, 'album_name': 'The Constant One'}, {'pos': 144, 'artist_name': 'Iron Chic', 'track_uri': 'spotify:track:3blwbD0cwonhQykAqbyBMw', 'artist_uri': 'spotify:artist:5H32ktDvTByY5e4zJpfFTa', 'track_name': 'Whatever Happened To The Man Of Tomorrow?', 'album_uri': 'spotify:album:4fJeL4hdOewP135z0z0xhO', 'duration_ms': 248459, 'album_name': 'The Constant One'}, {'pos': 145, 'artist_name': 'Iron Chic', 'track_uri': 'spotify:track:6BnMIT1lebCqZqa9SZjUaH', 'artist_uri': 'spotify:artist:5H32ktDvTByY5e4zJpfFTa', 'track_name': 'Cutesy Monster Man', 'album_uri': 'spotify:album:11rFQqEv7aK6UyG911JAxx', 'duration_ms': 236880, 'album_name': 'Not Like This'}, {'pos': 146, 'artist_name': 'Iron Chic', 'track_uri': 'spotify:track:4vQFF9WcBP4cmytKM65ZZn', 'artist_uri': 'spotify:artist:5H32ktDvTByY5e4zJpfFTa', 'track_name': 'Time Keeps On Slipping Into the (Cosmic) Future', 'album_uri': 'spotify:album:11rFQqEv7aK6UyG911JAxx', 'duration_ms': 201146, 'album_name': 'Not Like This'}, {'pos': 147, 'artist_name': 'Iron Chic', 'track_uri': 'spotify:track:7nlC2hvs4mOXjcV9NhTbjs', 'artist_uri': 'spotify:artist:5H32ktDvTByY5e4zJpfFTa', 'track_name': 'Timecop', 'album_uri': 'spotify:album:11rFQqEv7aK6UyG911JAxx', 'duration_ms': 143160, 'album_name': 'Not Like This'}, {'pos': 148, 'artist_name': 'Iron Chic', 'track_uri': 'spotify:track:1Mi4LG8S8DgrAUOfhOznBT', 'artist_uri': 'spotify:artist:5H32ktDvTByY5e4zJpfFTa', 'track_name': 'I Always Never Said That', 'album_uri': 'spotify:album:11rFQqEv7aK6UyG911JAxx', 'duration_ms': 141360, 'album_name': 'Not Like This'}, {'pos': 149, 'artist_name': 'Iron Chic', 'track_uri': 'spotify:track:0fFS68IOnF26YO3Qlsi2Tr', 'artist_uri': 'spotify:artist:5H32ktDvTByY5e4zJpfFTa', 'track_name': 'Black Friday', 'album_uri': 'spotify:album:11rFQqEv7aK6UyG911JAxx', 'duration_ms': 126053, 'album_name': 'Not Like This'}, {'pos': 150, 'artist_name': 'Iron Chic', 'track_uri': 'spotify:track:5dYX062Tz40UB2mLACohEw', 'artist_uri': 'spotify:artist:5H32ktDvTByY5e4zJpfFTa', 'track_name': 'Know What I Mean, Jellybean?', 'album_uri': 'spotify:album:11rFQqEv7aK6UyG911JAxx', 'duration_ms': 191666, 'album_name': 'Not Like This'}, {'pos': 151, 'artist_name': 'Iron Chic', 'track_uri': 'spotify:track:5E5lZ8OcVY9CYYsQUFWsQS', 'artist_uri': 'spotify:artist:5H32ktDvTByY5e4zJpfFTa', 'track_name': 'Awes-nificent', 'album_uri': 'spotify:album:11rFQqEv7aK6UyG911JAxx', 'duration_ms': 171800, 'album_name': 'Not Like This'}, {'pos': 152, 'artist_name': 'Iron Chic', 'track_uri': 'spotify:track:5XN5dkrZByHc3uLTsALq1g', 'artist_uri': 'spotify:artist:5H32ktDvTByY5e4zJpfFTa', 'track_name': 'In One Ear', 'album_uri': 'spotify:album:11rFQqEv7aK6UyG911JAxx', 'duration_ms': 215853, 'album_name': 'Not Like This'}, {'pos': 153, 'artist_name': 'Iron Chic', 'track_uri': 'spotify:track:03cHJhjbdDSXNUDPYtlxlo', 'artist_uri': 'spotify:artist:5H32ktDvTByY5e4zJpfFTa', 'track_name': \"Bustin' (Makes Me Feel Good)\", 'album_uri': 'spotify:album:11rFQqEv7aK6UyG911JAxx', 'duration_ms': 206266, 'album_name': 'Not Like This'}, {'pos': 154, 'artist_name': 'Iron Chic', 'track_uri': 'spotify:track:4av4pndGLlVLa5MVBlZvza', 'artist_uri': 'spotify:artist:5H32ktDvTByY5e4zJpfFTa', 'track_name': 'Every Town Has an Elm Street', 'album_uri': 'spotify:album:11rFQqEv7aK6UyG911JAxx', 'duration_ms': 211946, 'album_name': 'Not Like This'}, {'pos': 155, 'artist_name': 'Direct Hit!', 'track_uri': 'spotify:track:7tNJBp8WufZCOMALdT60D1', 'artist_uri': 'spotify:artist:23gluE1Q1KOmXrpYz1ivTu', 'track_name': 'A Message to the Angels Pt. II (Brainless God)', 'album_uri': 'spotify:album:4ursylr3KGaPYxX95iQWDl', 'duration_ms': 180533, 'album_name': 'Brainless God'}, {'pos': 156, 'artist_name': 'Direct Hit!', 'track_uri': 'spotify:track:3ltgO8knux7VY1OLvy2VxO', 'artist_uri': 'spotify:artist:23gluE1Q1KOmXrpYz1ivTu', 'track_name': 'Buried Alive', 'album_uri': 'spotify:album:4ursylr3KGaPYxX95iQWDl', 'duration_ms': 179946, 'album_name': 'Brainless God'}], 'num_edits': 6, 'duration_ms': 34463029, 'num_artists': 9}\n"
     ]
    }
   ],
   "source": [
    "# Iterate through 1000 playlists, saving the contents of the \"valid\" playlists, the ones that have at least 150 tracks\n",
    "# We want minimum 100 playlists with 100 tracks each (to get a total of 10,000 tracks)\n",
    "# We will overshoot because it may not be possible to obtain lyrics from all tracks in each playlist\n",
    "valid_playlists = []\n",
    "\n",
    "for playlist in data['playlists']:\n",
    "    if playlist['num_tracks'] > 149:\n",
    "        valid_playlists.append(playlist)\n",
    "\n",
    "print(\"Number of playlists with at least 150 tracks:\", len(valid_playlists))\n",
    "print(\"The first valid playlist:\", valid_playlists[0])"
   ]
  },
  {
   "cell_type": "markdown",
   "metadata": {},
   "source": [
    "#### Perform API calls to get lyrics of all tracks"
   ]
  },
  {
   "cell_type": "code",
   "execution_count": 22,
   "metadata": {},
   "outputs": [],
   "source": [
    "# Function that performs an API call to LRCLIB to request song lyrics, given certain parameters\n",
    "\n",
    "def request_lyrics(track_name, artist_name, album_name, duration_sec):\n",
    "    url = 'https://lrclib.net/api/get'\n",
    "    parameters = {\"track_name\": track_name,\n",
    "                  \"artist_name\": artist_name,\n",
    "                  \"album_name\": album_name,\n",
    "                  \"duration\": duration_sec}\n",
    "    \n",
    "    # Make the request\n",
    "    response = requests.get(url, params=parameters)\n",
    "    \n",
    "    # If successful, return string containing lyrics\n",
    "    if response.status_code == 200:\n",
    "        data = response.json()\n",
    "        # Response contains a field called 'plainLyrics' with string value\n",
    "        return data['plainLyrics']\n",
    "    \n",
    "    # If unsuccessful, return 0\n",
    "    else:\n",
    "        return 0"
   ]
  },
  {
   "cell_type": "code",
   "execution_count": null,
   "metadata": {},
   "outputs": [],
   "source": [
    "# # TEST: Testing successful API Call, the 'request_lyrics' function\n",
    "\n",
    "# p = data['playlists'][0]  # first playlist\n",
    "# t = p['tracks'][0]  # first track\n",
    "\n",
    "# # Extract parameters for API call for lyrics\n",
    "# track_name = t['track_name']\n",
    "# artist_name = t['artist_name']\n",
    "# album_name = t['album_name']\n",
    "# duration_sec = int(t['duration_ms'] / 1000)\n",
    "\n",
    "# # API call to get lyrics\n",
    "# lyrics = request_lyrics(track_name, artist_name, album_name, duration_sec)\n",
    "# lyrics"
   ]
  },
  {
   "cell_type": "code",
   "execution_count": null,
   "metadata": {},
   "outputs": [],
   "source": [
    "# # TEST: Testing API call that returns 'None' for lyrics (e.g. for an instrumental track)\n",
    "\n",
    "# lyrics = request_lyrics('Urban Ease', 'Parquet Courts', 'Content Nausea', 55)\n",
    "# print(lyrics)"
   ]
  },
  {
   "cell_type": "code",
   "execution_count": 23,
   "metadata": {},
   "outputs": [
    {
     "name": "stdout",
     "output_type": "stream",
     "text": [
      "Processing playlist 1 of ~100. On track 0 of ~10,000.\n"
     ]
    },
    {
     "name": "stdout",
     "output_type": "stream",
     "text": [
      "Processing playlist 2 of ~100. On track 141 of ~10,000.\n",
      "Processing playlist 3 of ~100. On track 290 of ~10,000.\n",
      "Processing playlist 4 of ~100. On track 437 of ~10,000.\n",
      "Processing playlist 5 of ~100. On track 582 of ~10,000.\n",
      "Processing playlist 6 of ~100. On track 719 of ~10,000.\n",
      "Processing playlist 7 of ~100. On track 862 of ~10,000.\n",
      "Processing playlist 8 of ~100. On track 995 of ~10,000.\n",
      "Processing playlist 9 of ~100. On track 1137 of ~10,000.\n",
      "Processing playlist 10 of ~100. On track 1271 of ~10,000.\n",
      "Processing playlist 11 of ~100. On track 1415 of ~10,000.\n",
      "Processing playlist 12 of ~100. On track 1564 of ~10,000.\n",
      "Processing playlist 13 of ~100. On track 1705 of ~10,000.\n",
      "Processing playlist 14 of ~100. On track 1845 of ~10,000.\n",
      "Processing playlist 15 of ~100. On track 1992 of ~10,000.\n",
      "Processing playlist 16 of ~100. On track 2133 of ~10,000.\n",
      "Processing playlist 17 of ~100. On track 2283 of ~10,000.\n",
      "Processing playlist 18 of ~100. On track 2422 of ~10,000.\n",
      "Processing playlist 19 of ~100. On track 2560 of ~10,000.\n",
      "Processing playlist 20 of ~100. On track 2699 of ~10,000.\n",
      "Processing playlist 21 of ~100. On track 2838 of ~10,000.\n",
      "Processing playlist 22 of ~100. On track 2982 of ~10,000.\n",
      "Processing playlist 23 of ~100. On track 3132 of ~10,000.\n",
      "Processing playlist 24 of ~100. On track 3268 of ~10,000.\n",
      "Processing playlist 25 of ~100. On track 3371 of ~10,000.\n",
      "Processing playlist 26 of ~100. On track 3508 of ~10,000.\n",
      "Processing playlist 27 of ~100. On track 3621 of ~10,000.\n",
      "Processing playlist 28 of ~100. On track 3760 of ~10,000.\n",
      "Processing playlist 29 of ~100. On track 3899 of ~10,000.\n",
      "Processing playlist 30 of ~100. On track 4045 of ~10,000.\n",
      "Processing playlist 31 of ~100. On track 4160 of ~10,000.\n",
      "Processing playlist 32 of ~100. On track 4307 of ~10,000.\n",
      "Processing playlist 33 of ~100. On track 4442 of ~10,000.\n",
      "Processing playlist 34 of ~100. On track 4583 of ~10,000.\n",
      "Processing playlist 35 of ~100. On track 4715 of ~10,000.\n",
      "Processing playlist 36 of ~100. On track 4851 of ~10,000.\n",
      "Processing playlist 37 of ~100. On track 4996 of ~10,000.\n",
      "Processing playlist 38 of ~100. On track 5144 of ~10,000.\n",
      "Processing playlist 39 of ~100. On track 5286 of ~10,000.\n",
      "Processing playlist 40 of ~100. On track 5434 of ~10,000.\n",
      "Processing playlist 41 of ~100. On track 5576 of ~10,000.\n",
      "Processing playlist 42 of ~100. On track 5719 of ~10,000.\n",
      "Processing playlist 43 of ~100. On track 5860 of ~10,000.\n",
      "Processing playlist 44 of ~100. On track 6008 of ~10,000.\n",
      "Processing playlist 45 of ~100. On track 6144 of ~10,000.\n",
      "Processing playlist 46 of ~100. On track 6163 of ~10,000.\n",
      "Processing playlist 47 of ~100. On track 6306 of ~10,000.\n",
      "Processing playlist 48 of ~100. On track 6444 of ~10,000.\n",
      "Processing playlist 49 of ~100. On track 6592 of ~10,000.\n",
      "Processing playlist 50 of ~100. On track 6711 of ~10,000.\n",
      "Processing playlist 51 of ~100. On track 6849 of ~10,000.\n",
      "Processing playlist 52 of ~100. On track 6998 of ~10,000.\n",
      "Processing playlist 53 of ~100. On track 7144 of ~10,000.\n",
      "Processing playlist 54 of ~100. On track 7287 of ~10,000.\n",
      "Processing playlist 55 of ~100. On track 7425 of ~10,000.\n",
      "Processing playlist 56 of ~100. On track 7556 of ~10,000.\n",
      "Processing playlist 57 of ~100. On track 7691 of ~10,000.\n",
      "Processing playlist 58 of ~100. On track 7826 of ~10,000.\n",
      "Processing playlist 59 of ~100. On track 7959 of ~10,000.\n",
      "Processing playlist 60 of ~100. On track 8098 of ~10,000.\n",
      "Processing playlist 61 of ~100. On track 8237 of ~10,000.\n",
      "Processing playlist 62 of ~100. On track 8360 of ~10,000.\n",
      "Processing playlist 63 of ~100. On track 8493 of ~10,000.\n",
      "Processing playlist 64 of ~100. On track 8640 of ~10,000.\n",
      "Processing playlist 65 of ~100. On track 8787 of ~10,000.\n",
      "Processing playlist 66 of ~100. On track 8932 of ~10,000.\n",
      "Processing playlist 67 of ~100. On track 9068 of ~10,000.\n",
      "Processing playlist 68 of ~100. On track 9196 of ~10,000.\n",
      "Processing playlist 69 of ~100. On track 9309 of ~10,000.\n",
      "Processing playlist 70 of ~100. On track 9455 of ~10,000.\n",
      "Processing playlist 71 of ~100. On track 9600 of ~10,000.\n",
      "Processing playlist 72 of ~100. On track 9740 of ~10,000.\n",
      "Processing playlist 73 of ~100. On track 9879 of ~10,000.\n"
     ]
    }
   ],
   "source": [
    "# WARNING: THIS CELL TAKES AROUND 30 MINUTES TO RUN!\n",
    "\n",
    "# Create a list of unique tracks across all \"valid\" playlists, along with their metadata\n",
    "# During this process, make API calls to also obtain the lyrics of these tracks\n",
    "# Note: Tracks may be removed from playlists if lyrics are unable to be obtained, but we were able to successfully obtain lyrics for all tracks\n",
    "\n",
    "unique_tracks = []\n",
    "\n",
    "track_count = 0  # verbose for debugging\n",
    "processed_playlists_count = 0\n",
    "\n",
    "for playlist in valid_playlists:\n",
    "    if track_count < 10000:  # process playlist only if we need more tracks\n",
    "        processed_playlists_count += 1\n",
    "        print(\"Processing playlist\", processed_playlists_count, \"of ~100. On track\", track_count, \"of ~10,000.\")  # verbose for debugging\n",
    "        \n",
    "        for t in playlist['tracks'][:150]:  # only take the first 150 tracks of each playlist\n",
    "            track_uri = t['track_uri']\n",
    "            \n",
    "            # Check if we encountered this track before\n",
    "            # If so, and make note if it is in a different playlist\n",
    "            new_track = True\n",
    "            for tr in unique_tracks:\n",
    "                if tr['track_uri'] == track_uri:\n",
    "                    # If track is NOT a repeat in same playlist\n",
    "                    if playlist['pid'] not in tr['playlist_ids']:\n",
    "                        tr['playlist_ids'].append(playlist['pid'])\n",
    "                        tr['playlist_names'].append(playlist['name'])\n",
    "                    \n",
    "                    # Update vars\n",
    "                    new_track = False\n",
    "                    track_count += 1  # verbose for debugging\n",
    "                    break\n",
    "            \n",
    "            # We encounter a new track\n",
    "            if new_track:\n",
    "                # Extract parameters for API call for lyrics\n",
    "                track_name = t['track_name']\n",
    "                artist_name = t['artist_name']\n",
    "                album_name = t['album_name']\n",
    "                duration_sec = int(t['duration_ms'] / 1000)\n",
    "                # API call to get lyrics\n",
    "                lyrics = request_lyrics(track_name, artist_name, album_name, duration_sec)\n",
    "                \n",
    "                # Call was successful; add track and only the relevant metadata to 'unique_tracks' list\n",
    "                if lyrics != 0 and lyrics is not None:  # API call fails if returns 0; API call returns 'None' if no lyrics (e.g. an instrumental track)\n",
    "                    track = {}\n",
    "                    track['playlist_ids'] = [playlist['pid']]\n",
    "                    track['playlist_names'] = [playlist['name']]\n",
    "                    track['track_name'] = track_name\n",
    "                    track['artist_name'] = artist_name\n",
    "                    track['album_name'] = album_name\n",
    "                    track['track_uri'] = t['track_uri']\n",
    "                    track['lyrics'] = lyrics\n",
    "                    unique_tracks.append(track)\n",
    "                    \n",
    "                    track_count += 1  # verbose for debugging\n",
    "\n",
    "                # Call was unsuccessful; skip this track\n",
    "                else:\n",
    "                    pass\n",
    "        "
   ]
  },
  {
   "cell_type": "markdown",
   "metadata": {},
   "source": [
    "#### Create dataframe with final dataset"
   ]
  },
  {
   "cell_type": "code",
   "execution_count": 25,
   "metadata": {},
   "outputs": [
    {
     "name": "stdout",
     "output_type": "stream",
     "text": [
      "Metadata fields for each track: dict_keys(['playlist_ids', 'playlist_names', 'track_name', 'artist_name', 'album_name', 'track_uri', 'lyrics'])\n"
     ]
    },
    {
     "data": {
      "text/html": [
       "<div>\n",
       "<style scoped>\n",
       "    .dataframe tbody tr th:only-of-type {\n",
       "        vertical-align: middle;\n",
       "    }\n",
       "\n",
       "    .dataframe tbody tr th {\n",
       "        vertical-align: top;\n",
       "    }\n",
       "\n",
       "    .dataframe thead th {\n",
       "        text-align: right;\n",
       "    }\n",
       "</style>\n",
       "<table border=\"1\" class=\"dataframe\">\n",
       "  <thead>\n",
       "    <tr style=\"text-align: right;\">\n",
       "      <th></th>\n",
       "      <th>Playlist ID</th>\n",
       "      <th>Playlist Name</th>\n",
       "      <th>Track Name</th>\n",
       "      <th>Artist Name</th>\n",
       "      <th>Album Name</th>\n",
       "      <th>Track URI</th>\n",
       "      <th>Lyrics</th>\n",
       "    </tr>\n",
       "  </thead>\n",
       "  <tbody>\n",
       "    <tr>\n",
       "      <th>0</th>\n",
       "      <td>30</td>\n",
       "      <td>Garage Rock</td>\n",
       "      <td>Take My Side</td>\n",
       "      <td>Will Butler</td>\n",
       "      <td>Policy</td>\n",
       "      <td>spotify:track:6v4zAuJTlszNdKrbbnEFu8</td>\n",
       "      <td>Where's the fire? Let it burn\\nWhere're the ch...</td>\n",
       "    </tr>\n",
       "    <tr>\n",
       "      <th>1</th>\n",
       "      <td>30</td>\n",
       "      <td>Garage Rock</td>\n",
       "      <td>Everyday it Starts</td>\n",
       "      <td>Parquet Courts</td>\n",
       "      <td>Content Nausea</td>\n",
       "      <td>spotify:track:25JD35LDh7CEJ9gKUNruVj</td>\n",
       "      <td>Everyday it starts\\nEveryday it starts\\nEveryd...</td>\n",
       "    </tr>\n",
       "    <tr>\n",
       "      <th>2</th>\n",
       "      <td>30</td>\n",
       "      <td>Garage Rock</td>\n",
       "      <td>Content Nausea</td>\n",
       "      <td>Parquet Courts</td>\n",
       "      <td>Content Nausea</td>\n",
       "      <td>spotify:track:24bk2iKzr3VcymFnzIy3oS</td>\n",
       "      <td>Content nausea, World War Four\\nSeems like it ...</td>\n",
       "    </tr>\n",
       "    <tr>\n",
       "      <th>3</th>\n",
       "      <td>30</td>\n",
       "      <td>Garage Rock</td>\n",
       "      <td>Slide Machine</td>\n",
       "      <td>Parquet Courts</td>\n",
       "      <td>Content Nausea</td>\n",
       "      <td>spotify:track:7rjK8CDTtTn2KG9Zja7ETj</td>\n",
       "      <td>I've been down South where they use the slide ...</td>\n",
       "    </tr>\n",
       "    <tr>\n",
       "      <th>4</th>\n",
       "      <td>30</td>\n",
       "      <td>Garage Rock</td>\n",
       "      <td>Pretty Machines</td>\n",
       "      <td>Parquet Courts</td>\n",
       "      <td>Content Nausea</td>\n",
       "      <td>spotify:track:1zPn4tfkWfowVG3ROo1wUY</td>\n",
       "      <td>Ah, moonlight\\nIt's hard to believe it\\nAnd it...</td>\n",
       "    </tr>\n",
       "  </tbody>\n",
       "</table>\n",
       "</div>"
      ],
      "text/plain": [
       "   Playlist ID Playlist Name          Track Name     Artist Name  \\\n",
       "0           30   Garage Rock        Take My Side     Will Butler   \n",
       "1           30   Garage Rock  Everyday it Starts  Parquet Courts   \n",
       "2           30   Garage Rock      Content Nausea  Parquet Courts   \n",
       "3           30   Garage Rock       Slide Machine  Parquet Courts   \n",
       "4           30   Garage Rock     Pretty Machines  Parquet Courts   \n",
       "\n",
       "       Album Name                             Track URI  \\\n",
       "0          Policy  spotify:track:6v4zAuJTlszNdKrbbnEFu8   \n",
       "1  Content Nausea  spotify:track:25JD35LDh7CEJ9gKUNruVj   \n",
       "2  Content Nausea  spotify:track:24bk2iKzr3VcymFnzIy3oS   \n",
       "3  Content Nausea  spotify:track:7rjK8CDTtTn2KG9Zja7ETj   \n",
       "4  Content Nausea  spotify:track:1zPn4tfkWfowVG3ROo1wUY   \n",
       "\n",
       "                                              Lyrics  \n",
       "0  Where's the fire? Let it burn\\nWhere're the ch...  \n",
       "1  Everyday it starts\\nEveryday it starts\\nEveryd...  \n",
       "2  Content nausea, World War Four\\nSeems like it ...  \n",
       "3  I've been down South where they use the slide ...  \n",
       "4  Ah, moonlight\\nIt's hard to believe it\\nAnd it...  "
      ]
     },
     "execution_count": 25,
     "metadata": {},
     "output_type": "execute_result"
    }
   ],
   "source": [
    "# Organize the data into a dataframe of playlists (i.e. tracks can be appear several times in the df if they appear in different playlists)\n",
    "\n",
    "print(\"Metadata fields for each track:\", unique_tracks[0].keys())\n",
    "\n",
    "# Iterate through list, creating a row of the dataframe for each playlist id\n",
    "df_rows = []\n",
    "for t in unique_tracks:\n",
    "    for i in range(len(t['playlist_ids'])):\n",
    "        row = {'Playlist ID': t['playlist_ids'][i],\n",
    "               'Playlist Name': t['playlist_names'][i],\n",
    "               'Track Name': t['track_name'],\n",
    "               'Artist Name': t['artist_name'],\n",
    "               'Album Name': t['album_name'],\n",
    "               'Track URI': t['track_uri'],\n",
    "               'Lyrics': t['lyrics']\n",
    "               }\n",
    "        df_rows.append(row)\n",
    "\n",
    "sorted_rows = sorted(df_rows, key=lambda r: r['Playlist ID'])\n",
    "df = pd.DataFrame(sorted_rows)\n",
    "\n",
    "df.head()"
   ]
  },
  {
   "cell_type": "markdown",
   "metadata": {},
   "source": [
    "#### Remove Outliers (playlists with < 100 tracks)"
   ]
  },
  {
   "cell_type": "markdown",
   "metadata": {},
   "source": [
    "From the histogram below, we see that there is one main outlier that less than 100 tracks. It originally had at least 150 tracks (from our filtering at the beginning), but most of their songs were removed due to absence of lyrics.\n",
    "\n",
    "Let's remove any such outlier playlists to retain consistency in number of tracks per playlist, as much as possible."
   ]
  },
  {
   "cell_type": "code",
   "execution_count": 31,
   "metadata": {},
   "outputs": [
    {
     "name": "stdout",
     "output_type": "stream",
     "text": [
      "Number of playlists: 73\n",
      "Mean number of tracks per playlist: 135.6986301369863\n",
      "Standard deviation of tracks per playlist: 17.04950710553994\n",
      "Max number of tracks per playlist: 150\n",
      "Min number of tracks per playlist: 19\n"
     ]
    },
    {
     "data": {
      "image/png": "[encoded data removed]",
      "text/plain": [
       "<Figure size 432x288 with 1 Axes>"
      ]
     },
     "metadata": {
      "needs_background": "light"
     },
     "output_type": "display_data"
    }
   ],
   "source": [
    "# Distribution of tracks across playlists\n",
    "\n",
    "print(\"Number of playlists:\", df['Playlist ID'].nunique())\n",
    "tracks_per_playlist = df.groupby('Playlist ID').size()\n",
    "print(\"Mean number of tracks per playlist:\", tracks_per_playlist.mean())\n",
    "print(\"Standard deviation of tracks per playlist:\", tracks_per_playlist.std())\n",
    "print(\"Max number of tracks per playlist:\", max(tracks_per_playlist))\n",
    "print(\"Min number of tracks per playlist:\", min(tracks_per_playlist))\n",
    "\n",
    "# Plot\n",
    "plt.hist(tracks_per_playlist, bins=20)\n",
    "plt.xlabel('Number of Tracks in a Playlist')\n",
    "plt.ylabel('Number of Playlists')\n",
    "plt.title('Distribution of Track Counts Across Playlists')\n",
    "plt.show()"
   ]
  },
  {
   "cell_type": "code",
   "execution_count": 32,
   "metadata": {},
   "outputs": [
    {
     "name": "stdout",
     "output_type": "stream",
     "text": [
      "Number of removed playlists: 1\n"
     ]
    },
    {
     "data": {
      "text/html": [
       "<div>\n",
       "<style scoped>\n",
       "    .dataframe tbody tr th:only-of-type {\n",
       "        vertical-align: middle;\n",
       "    }\n",
       "\n",
       "    .dataframe tbody tr th {\n",
       "        vertical-align: top;\n",
       "    }\n",
       "\n",
       "    .dataframe thead th {\n",
       "        text-align: right;\n",
       "    }\n",
       "</style>\n",
       "<table border=\"1\" class=\"dataframe\">\n",
       "  <thead>\n",
       "    <tr style=\"text-align: right;\">\n",
       "      <th></th>\n",
       "      <th>Playlist ID</th>\n",
       "      <th>Playlist Name</th>\n",
       "      <th>Track Name</th>\n",
       "      <th>Artist Name</th>\n",
       "      <th>Album Name</th>\n",
       "      <th>Track URI</th>\n",
       "      <th>Lyrics</th>\n",
       "    </tr>\n",
       "  </thead>\n",
       "  <tbody>\n",
       "    <tr>\n",
       "      <th>0</th>\n",
       "      <td>30</td>\n",
       "      <td>Garage Rock</td>\n",
       "      <td>Take My Side</td>\n",
       "      <td>Will Butler</td>\n",
       "      <td>Policy</td>\n",
       "      <td>spotify:track:6v4zAuJTlszNdKrbbnEFu8</td>\n",
       "      <td>Where's the fire? Let it burn\\nWhere're the ch...</td>\n",
       "    </tr>\n",
       "    <tr>\n",
       "      <th>1</th>\n",
       "      <td>30</td>\n",
       "      <td>Garage Rock</td>\n",
       "      <td>Everyday it Starts</td>\n",
       "      <td>Parquet Courts</td>\n",
       "      <td>Content Nausea</td>\n",
       "      <td>spotify:track:25JD35LDh7CEJ9gKUNruVj</td>\n",
       "      <td>Everyday it starts\\nEveryday it starts\\nEveryd...</td>\n",
       "    </tr>\n",
       "    <tr>\n",
       "      <th>2</th>\n",
       "      <td>30</td>\n",
       "      <td>Garage Rock</td>\n",
       "      <td>Content Nausea</td>\n",
       "      <td>Parquet Courts</td>\n",
       "      <td>Content Nausea</td>\n",
       "      <td>spotify:track:24bk2iKzr3VcymFnzIy3oS</td>\n",
       "      <td>Content nausea, World War Four\\nSeems like it ...</td>\n",
       "    </tr>\n",
       "    <tr>\n",
       "      <th>3</th>\n",
       "      <td>30</td>\n",
       "      <td>Garage Rock</td>\n",
       "      <td>Slide Machine</td>\n",
       "      <td>Parquet Courts</td>\n",
       "      <td>Content Nausea</td>\n",
       "      <td>spotify:track:7rjK8CDTtTn2KG9Zja7ETj</td>\n",
       "      <td>I've been down South where they use the slide ...</td>\n",
       "    </tr>\n",
       "    <tr>\n",
       "      <th>4</th>\n",
       "      <td>30</td>\n",
       "      <td>Garage Rock</td>\n",
       "      <td>Pretty Machines</td>\n",
       "      <td>Parquet Courts</td>\n",
       "      <td>Content Nausea</td>\n",
       "      <td>spotify:track:1zPn4tfkWfowVG3ROo1wUY</td>\n",
       "      <td>Ah, moonlight\\nIt's hard to believe it\\nAnd it...</td>\n",
       "    </tr>\n",
       "  </tbody>\n",
       "</table>\n",
       "</div>"
      ],
      "text/plain": [
       "   Playlist ID Playlist Name          Track Name     Artist Name  \\\n",
       "0           30   Garage Rock        Take My Side     Will Butler   \n",
       "1           30   Garage Rock  Everyday it Starts  Parquet Courts   \n",
       "2           30   Garage Rock      Content Nausea  Parquet Courts   \n",
       "3           30   Garage Rock       Slide Machine  Parquet Courts   \n",
       "4           30   Garage Rock     Pretty Machines  Parquet Courts   \n",
       "\n",
       "       Album Name                             Track URI  \\\n",
       "0          Policy  spotify:track:6v4zAuJTlszNdKrbbnEFu8   \n",
       "1  Content Nausea  spotify:track:25JD35LDh7CEJ9gKUNruVj   \n",
       "2  Content Nausea  spotify:track:24bk2iKzr3VcymFnzIy3oS   \n",
       "3  Content Nausea  spotify:track:7rjK8CDTtTn2KG9Zja7ETj   \n",
       "4  Content Nausea  spotify:track:1zPn4tfkWfowVG3ROo1wUY   \n",
       "\n",
       "                                              Lyrics  \n",
       "0  Where's the fire? Let it burn\\nWhere're the ch...  \n",
       "1  Everyday it starts\\nEveryday it starts\\nEveryd...  \n",
       "2  Content nausea, World War Four\\nSeems like it ...  \n",
       "3  I've been down South where they use the slide ...  \n",
       "4  Ah, moonlight\\nIt's hard to believe it\\nAnd it...  "
      ]
     },
     "execution_count": 32,
     "metadata": {},
     "output_type": "execute_result"
    }
   ],
   "source": [
    "keep_playlists = tracks_per_playlist[tracks_per_playlist > 99].index\n",
    "final_df = df[df['Playlist ID'].isin(keep_playlists)]\n",
    "\n",
    "print(\"Number of removed playlists:\", df['Playlist ID'].nunique() - final_df['Playlist ID'].nunique())\n",
    "\n",
    "final_df.head()\n"
   ]
  },
  {
   "cell_type": "markdown",
   "metadata": {},
   "source": [
    "#### Exploratory analysis of final dataset"
   ]
  },
  {
   "cell_type": "code",
   "execution_count": 33,
   "metadata": {},
   "outputs": [
    {
     "name": "stdout",
     "output_type": "stream",
     "text": [
      "Number of total tracks: 9887\n",
      "Number of playlists: 72\n",
      "Mean number of tracks per playlist: 137.31944444444446\n",
      "Standard deviation of tracks per playlist: 10.015236827009906\n",
      "Max number of tracks per playlist: 150\n",
      "Min number of tracks per playlist: 102\n"
     ]
    }
   ],
   "source": [
    "# Statistics\n",
    "\n",
    "print(\"Number of total tracks:\", len(final_df))\n",
    "print(\"Number of playlists:\", final_df['Playlist ID'].nunique())\n",
    "\n",
    "tracks_per_plist = final_df.groupby('Playlist ID').size()\n",
    "\n",
    "print(\"Mean number of tracks per playlist:\", tracks_per_plist.mean())\n",
    "print(\"Standard deviation of tracks per playlist:\", tracks_per_plist.std())\n",
    "print(\"Max number of tracks per playlist:\", max(tracks_per_plist))\n",
    "print(\"Min number of tracks per playlist:\", min(tracks_per_plist))"
   ]
  },
  {
   "cell_type": "code",
   "execution_count": 34,
   "metadata": {},
   "outputs": [
    {
     "name": "stdout",
     "output_type": "stream",
     "text": [
      "First 5 playlist IDs and their number of tracks: Playlist ID\n",
      "30    132\n",
      "41    149\n",
      "42    147\n",
      "55    145\n",
      "68    137\n",
      "dtype: int64\n"
     ]
    },
    {
     "data": {
      "image/png": "[encoded data removed]",
      "text/plain": [
       "<Figure size 432x288 with 1 Axes>"
      ]
     },
     "metadata": {
      "needs_background": "light"
     },
     "output_type": "display_data"
    }
   ],
   "source": [
    "# Distribution of tracks across playlists\n",
    "\n",
    "print(\"First 5 playlist IDs and their number of tracks:\", tracks_per_plist[:5])\n",
    "\n",
    "# Plot\n",
    "plt.hist(tracks_per_plist, bins=10)\n",
    "plt.xlabel('Number of Tracks in a Playlist')\n",
    "plt.ylabel('Number of Playlists')\n",
    "plt.title('Distribution of Track Counts Across Playlists')\n",
    "plt.show()"
   ]
  },
  {
   "cell_type": "code",
   "execution_count": 35,
   "metadata": {},
   "outputs": [
    {
     "name": "stdout",
     "output_type": "stream",
     "text": [
      "Number of unique tracks: 7704\n",
      "Number of repeated tracks: 1360\n",
      "Mean number of times a track is repeated: 2.6051470588235293\n",
      "Standard deviation of number of times a track is repeated: 1.087410047395203\n"
     ]
    },
    {
     "data": {
      "text/plain": [
       "Text(0.5, 1.0, 'Frequency of Repeated Tracks vs Number of Times Track is Repeated')"
      ]
     },
     "execution_count": 35,
     "metadata": {},
     "output_type": "execute_result"
    },
    {
     "data": {
      "image/png": "[encoded data removed]",
      "text/plain": [
       "<Figure size 432x288 with 1 Axes>"
      ]
     },
     "metadata": {
      "needs_background": "light"
     },
     "output_type": "display_data"
    }
   ],
   "source": [
    "# Track repetitions across playlists\n",
    "# A repeated track appears in at least 2 playlists\n",
    "\n",
    "track_uri_counts = final_df.groupby('Track URI').size()\n",
    "repeated_tracks = track_uri_counts[track_uri_counts > 1]\n",
    "\n",
    "# Stats\n",
    "print(\"Number of unique tracks:\", final_df['Track URI'].nunique())\n",
    "print(\"Number of repeated tracks:\", len(repeated_tracks))\n",
    "print(\"Mean number of times a track is repeated:\", repeated_tracks.mean())\n",
    "print(\"Standard deviation of number of times a track is repeated:\", repeated_tracks.std())\n",
    "\n",
    "# Plot\n",
    "plt.hist(repeated_tracks, bins=20)\n",
    "plt.xlabel('Number of Times a Track is Repeated')\n",
    "plt.ylabel('Frequency of Tracks')\n",
    "plt.title('Frequency of Repeated Tracks vs Number of Times Track is Repeated')"
   ]
  },
  {
   "cell_type": "markdown",
   "metadata": {},
   "source": [
    "#### Save dataframe to csv"
   ]
  },
  {
   "cell_type": "code",
   "execution_count": 38,
   "metadata": {},
   "outputs": [],
   "source": [
    "final_df.to_csv('data/playlist_dataset.csv', index=False)\n"
   ]
  }
 ],
 "metadata": {
  "kernelspec": {
   "display_name": "Python 3",
   "language": "python",
   "name": "python3"
  },
  "language_info": {
   "codemirror_mode": {
    "name": "ipython",
    "version": 3
   },
   "file_extension": ".py",
   "mimetype": "text/x-python",
   "name": "python",
   "nbconvert_exporter": "python",
   "pygments_lexer": "ipython3",
   "version": "3.9.7"
  }
 },
 "nbformat": 4,
 "nbformat_minor": 2
}
